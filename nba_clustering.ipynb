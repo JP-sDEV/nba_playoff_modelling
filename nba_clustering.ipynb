{
  "nbformat": 4,
  "nbformat_minor": 0,
  "metadata": {
    "colab": {
      "name": "nba_clustering.ipynb",
      "provenance": [],
      "collapsed_sections": [
        "4ULJh8q_YA0L",
        "SVnuVUfYcaPc",
        "f4Y86HOAcvOe",
        "hLJS330LXZRX",
        "3CWviTrydwJw"
      ]
    },
    "kernelspec": {
      "name": "Python 3.8.5 64-bit",
      "display_name": "Python 3.8.5 64-bit",
      "metadata": {
        "interpreter": {
          "hash": "31f2aee4e71d21fbe5cf8b01ff0e069b9275f58929596ceb00d14d90e3e16cd6"
        }
      }
    }
  },
  "cells": [
    {
      "cell_type": "markdown",
      "metadata": {
        "id": "kkxF7nBhDDe5"
      },
      "source": [
        "# Introduction"
      ]
    },
    {
      "cell_type": "markdown",
      "metadata": {
        "id": "WTNDEZtADHqd"
      },
      "source": [
        "## Introduction\n",
        "In the spirit of the (2019-2020) NBA playoffs, I started this project named: \"NBA Clustering\", where I use machine learning to differentiate playoff teams, from non-playoff teams based on team stats/box-score.\n",
        "\n",
        "Additionally, I wanted to get a better understanding of how to create and optimize models with scikit-learn. Scikit-learn is an open source machine learning library on python with a vast amount of machine learning tools. \n",
        "\n",
        "## Question\n",
        "\n",
        "On the Toronto Raptors, the closest player to being a superstar is Kyle Lowry (it is arguable that he is a superstar).  Whereas other teams such as the LA Lakers have Lebron James, and Anthony Davis who are superstars without a doubt. \n",
        "\n",
        "However despite not having a superstar, or a player of a similar caliber to Lebron James, Kawhi Leonard, or others alike, the Toronto Raptors are playoff contenders who secured a playoff spot at the 2nd seed (in the 2019-2020, NBA season).\n",
        "\n",
        "Knowing this sparked my curiosity of: **\"What makes a team playoff contenders?\"**\n",
        "\n",
        "## Notebook Breakdown\n",
        "\n",
        "The notebook is divided into the following sections: \n",
        "\n",
        "1. Sourcing the Data\n",
        "2. Cleaning/Preprocessing Data\n",
        "3. Explanatory Data Analysis (EDA)\n",
        "4. Modelling\n",
        "5. Conclusions"
      ]
    },
    {
      "cell_type": "markdown",
      "metadata": {
        "id": "4ULJh8q_YA0L"
      },
      "source": [
        "# Cleaning/Preprocessing Data\n"
      ]
    },
    {
      "cell_type": "code",
      "metadata": {
        "id": "eTrFyvb9YWBW"
      },
      "source": [
        "# advance stats, using box score stats\n",
        "def add_adv_stats(df):\n",
        "    df[\"PPM\"] = df[\"PTS\"]/df[\"MP\"] #Points per Minute\n",
        "    df[\"POSS\"] = 0.96*((df[\"FGA\"]+df[\"TOV\"])+(0.44*df[\"FTA\"]-df[\"ORB\"])) #Possession\n",
        "    df[\"DRBP\"] = df[\"DRB\"]/(df[\"DRB\"] + df.mean()[\"ORB\"]) #Defensive Rebounding Percentage\n",
        "    df[\"DE\"] = 100*(df.mean()[\"PTS\"]/df[\"POSS\"]) #Defensive Efficiency\n",
        "    df[\"OE\"] = 100*(df[\"PTS\"]/df[\"POSS\"]) #Offensive Efficiency\n",
        "    df[\"ED\"] = df[\"OE\"] - df[\"DE\"] #Efficiency Differential\n",
        "    df[\"TR\"] = (df[\"TOV\"] * 100) / (df[\"FGA\"] + (df[\"FTA\"]*44)+ df[\"AST\"] + df[\"TOV\"]) #Turnover Ratio\n",
        "    df[\"EFG%\"] = df[\"FG\"] + (0.5*df[\"3P\"]/df[\"FGA\"]) # effective field goal %\n",
        "    df[\"FTR\"] = df[\"FTA\"]/df[\"FGA\"]  #Free Throw Rate - how often team shoots FT\n",
        "    return df"
      ],
      "execution_count": 6,
      "outputs": []
    },
    {
      "cell_type": "markdown",
      "metadata": {
        "id": "Qt0e-L-V8tD3"
      },
      "source": [
        "\n",
        "## Cleaning/Preprocessing Data"
      ]
    },
    {
      "cell_type": "markdown",
      "metadata": {
        "id": "tze-TdmFCks8"
      },
      "source": [
        "### Cleaning/Preprocessing Data\n",
        "\n",
        "To make the data easier to analyze and model, there are a couple of changes/additions made to the initial data set.\n",
        "\n",
        "1. \"Year\" column was added\n",
        "2. \"Playoff\" column was added\n",
        "3. Renaming historical teams\n",
        "4. Adding advanced stats columns\n",
        "\n",
        "### Adding a \"Year\" Column\n",
        "\n",
        "The yearly team stat table can be accessed on different pages/URLs, and there is no indication of the what year/season the stats are from. \n",
        "\n",
        "To combat this, a yearly column was added to the initial data set. Every time the team stats were recorded, the respective year was also recorded. \n",
        "\n",
        "Example) LA Lakers historical team stats\n",
        "\n",
        "If the year column was not added, there would be 20 instances of LA Lakers which are undisguisable, and will be read as duplicates. \n",
        "\n",
        "If we were interested in only looking at the LA Lakers in the 80's then it would be difficult to differentiate the stats from the 80's Lakers from the 90's Lakers, but with the \"Year\" column, we could filter using the \"Team\" and \"Year\" column to get only the 80's Lakers stats. \n",
        "\n",
        "### Adding a \"Playoff\" Column\n",
        "\n",
        "On Basketball Reference, an asterisks is added to the end a team name. For example, if the LA Lakers made the playoffs in that season it would appear as: *LA Lakers**, rather than *LA Lakers* (if they did not make the playoffs). \n",
        "\n",
        "This type of formatting poses 2 problems:\n",
        "\n",
        "1. The team names *LA Lakers** and *LA Lakers* would be read as different teams because of the asterisks\n",
        "2. Playoff indication of a team can be confusing, and would add difficulty of separating playoff teams from non-playoff teams\n",
        "\n",
        "To solve both these problems, a \"Playoff\" column was added to the data set. For teams that had made the playoffs, the asterisks at end was removed, and was labelled with 1 in the \"Playoff\" column. For teams that had not made the playoffs were labelled as 0.\n",
        "\n",
        "### Renaming Historical Teams\n",
        "\n",
        "In NBA history, teams have been relocated, or more teams were added to the association and this shows in the data pulled from Basketball Reference. For example, the Charlotte Hornets are the latest team to relocate in 2013 to New Orleans, and are now known as the New Orleans Pelicans.\n",
        "\n",
        "The differences in names, poses a problem when looking up a team's historical stats because when looking up teams under the new name, there will be gaps in the data although the team has the same roster as their former team name.\n",
        "\n",
        "Fixing this issue was simple, we filtered through the data set by historical names, and replaced the historical team name with their current team name.\n",
        "\n",
        "### Adding Advanced Statistics\n",
        "\n",
        "The box score provides simple statistics, but can be used in combination with each other, providing a better indication of a team's offensive and defensive performance. More information about the advanced statistics can be found on [NBAstuffer](https://www.nbastuffer.com/analytics-101/)\n",
        "\n",
        "To measure offensive performance better, these stats were added to the data set:\n",
        "\n",
        "1. Points per minute \n",
        "2. [Possession](https://www.nbastuffer.com/analytics101/possession/)\n",
        "3. [Offensive efficiency](https://www.nbastuffer.com/analytics101/offensive-efficiency/)\n",
        "4. [Effective field goal %](https://www.nbastuffer.com/analytics101/effective-field-goal-percentage-efg/)\n",
        "5. [Free throw Rate](https://www.nbastuffer.com/analytics101/free-throw-rate/)\n",
        "\n",
        "To measure defensive performance better, these stats were added to the data set:\n",
        "\n",
        "1. [Defensive rebounding percentage](https://www.nbastuffer.com/analytics101/defensive-rebounding-percentage/)\n",
        "2. [Defensive efficiency](https://www.nbastuffer.com/analytics101/defensive-efficiency/) \n",
        "\n",
        "To measure overall performance better, these stats were added to the data set:\n",
        "\n",
        "1. [Efficiency differential](https://www.nbastuffer.com/analytics101/efficiency-differential/) \n",
        "2. [Turnover ratio](https://www.nbastuffer.com/analytics101/turnover-ratio/)\n"
      ]
    },
    {
      "cell_type": "markdown",
      "metadata": {
        "id": "xPVOHIrbh0ju"
      },
      "source": [
        "## Creating Reusable Functions (OPTIONAL READ)\n",
        "\n",
        "These reusable functions are mainly for graphing"
      ]
    },
    {
      "cell_type": "code",
      "metadata": {
        "id": "WehwH1iIFXXr"
      },
      "source": [
        "# from matplotlib import pyplot\n",
        "# def compare_two_groups(df1, df2, vars, n_rows, n_cols):\n",
        "#         fig=plt.figure(figsize=(15,15), facecolor=\"white\")\n",
        "#         for i, var_name in enumerate(vars):\n",
        "#             ax=fig.add_subplot(n_rows,n_cols,i+1)\n",
        "#             df1[var_name].hist(bins=20, ax=ax, label=\"df1\") # for histogram\n",
        "#             df2[var_name].hist(bins=20, ax=ax, label=\"df2\") # for histogram\n",
        "#             ax.set_title(var_name+\" Distribution\")\n",
        "#             pyplot.legend(loc=\"upper right\")\n",
        "#         plt.tight_layout()\n",
        "#         plt.show()"
      ],
      "execution_count": 7,
      "outputs": [
        {
          "output_type": "error",
          "ename": "ModuleNotFoundError",
          "evalue": "No module named 'matplotlib'",
          "traceback": [
            "\u001b[0;31m---------------------------------------------------------------------------\u001b[0m",
            "\u001b[0;31mModuleNotFoundError\u001b[0m                       Traceback (most recent call last)",
            "\u001b[0;32m<ipython-input-7-8a3e94ddc602>\u001b[0m in \u001b[0;36m<module>\u001b[0;34m\u001b[0m\n\u001b[0;32m----> 1\u001b[0;31m \u001b[0;32mfrom\u001b[0m \u001b[0mmatplotlib\u001b[0m \u001b[0;32mimport\u001b[0m \u001b[0mpyplot\u001b[0m\u001b[0;34m\u001b[0m\u001b[0;34m\u001b[0m\u001b[0m\n\u001b[0m\u001b[1;32m      2\u001b[0m \u001b[0;32mdef\u001b[0m \u001b[0mcompare_two_groups\u001b[0m\u001b[0;34m(\u001b[0m\u001b[0mdf1\u001b[0m\u001b[0;34m,\u001b[0m \u001b[0mdf2\u001b[0m\u001b[0;34m,\u001b[0m \u001b[0mvars\u001b[0m\u001b[0;34m,\u001b[0m \u001b[0mn_rows\u001b[0m\u001b[0;34m,\u001b[0m \u001b[0mn_cols\u001b[0m\u001b[0;34m)\u001b[0m\u001b[0;34m:\u001b[0m\u001b[0;34m\u001b[0m\u001b[0;34m\u001b[0m\u001b[0m\n\u001b[1;32m      3\u001b[0m         \u001b[0mfig\u001b[0m\u001b[0;34m=\u001b[0m\u001b[0mplt\u001b[0m\u001b[0;34m.\u001b[0m\u001b[0mfigure\u001b[0m\u001b[0;34m(\u001b[0m\u001b[0mfigsize\u001b[0m\u001b[0;34m=\u001b[0m\u001b[0;34m(\u001b[0m\u001b[0;36m15\u001b[0m\u001b[0;34m,\u001b[0m\u001b[0;36m15\u001b[0m\u001b[0;34m)\u001b[0m\u001b[0;34m,\u001b[0m \u001b[0mfacecolor\u001b[0m\u001b[0;34m=\u001b[0m\u001b[0;34m\"white\"\u001b[0m\u001b[0;34m)\u001b[0m\u001b[0;34m\u001b[0m\u001b[0;34m\u001b[0m\u001b[0m\n\u001b[1;32m      4\u001b[0m         \u001b[0;32mfor\u001b[0m \u001b[0mi\u001b[0m\u001b[0;34m,\u001b[0m \u001b[0mvar_name\u001b[0m \u001b[0;32min\u001b[0m \u001b[0menumerate\u001b[0m\u001b[0;34m(\u001b[0m\u001b[0mvars\u001b[0m\u001b[0;34m)\u001b[0m\u001b[0;34m:\u001b[0m\u001b[0;34m\u001b[0m\u001b[0;34m\u001b[0m\u001b[0m\n\u001b[1;32m      5\u001b[0m             \u001b[0max\u001b[0m\u001b[0;34m=\u001b[0m\u001b[0mfig\u001b[0m\u001b[0;34m.\u001b[0m\u001b[0madd_subplot\u001b[0m\u001b[0;34m(\u001b[0m\u001b[0mn_rows\u001b[0m\u001b[0;34m,\u001b[0m\u001b[0mn_cols\u001b[0m\u001b[0;34m,\u001b[0m\u001b[0mi\u001b[0m\u001b[0;34m+\u001b[0m\u001b[0;36m1\u001b[0m\u001b[0;34m)\u001b[0m\u001b[0;34m\u001b[0m\u001b[0;34m\u001b[0m\u001b[0m\n",
            "\u001b[0;31mModuleNotFoundError\u001b[0m: No module named 'matplotlib'"
          ]
        }
      ]
    },
    {
      "cell_type": "code",
      "metadata": {
        "id": "d1JJ9riU4v5w"
      },
      "source": [
        "# def f_importances(coef, names):\n",
        "#     plt.figure(figsize=(15,15), facecolor=\"white\")\n",
        "#     imp = coef[0]\n",
        "#     imp,names = zip(*sorted(zip(imp,names)))\n",
        "#     plt.title(\"Feature Importance\")\n",
        "#     plt.barh(range(len(names)), imp, align='center')\n",
        "#     plt.yticks(range(len(names)), names)\n",
        "#     plt.grid(True)\n",
        "#     plt.show()"
      ],
      "execution_count": 3,
      "outputs": []
    },
    {
      "cell_type": "code",
      "metadata": {
        "id": "vOy0efiWh3Zf"
      },
      "source": [
        "# def time_series_stat(df, vars, n_rows,n_cols):\n",
        "#     # x_labels = list(df[\"Year\"].unique())\n",
        "#     # print(len (x_labels))\n",
        "#     fig=plt.figure(figsize=(15,15), facecolor=\"white\")\n",
        "    \n",
        "#     playoff = df[df[\"Playoff\"] == 1]\n",
        "#     non_playoff = df[df[\"Playoff\"] == 0]\n",
        "#     years = df[\"Year\"].unique()\n",
        "\n",
        "#     for i, var_name in enumerate(vars):\n",
        "#         ax=fig.add_subplot(n_rows,n_cols,i+1)\n",
        "#         ax.set_title(var_name+\" Time Series\")\n",
        "#         playoff_data=[]\n",
        "#         non_playoff_data=[]\n",
        "#         for year in years:\n",
        "#             playoff_average = playoff[playoff[\"Year\"] == year][var_name].mean()\n",
        "#             non_playoff_average = non_playoff[non_playoff[\"Year\"] == year][var_name].mean()\n",
        "#             playoff_data.append(playoff_average)\n",
        "#             non_playoff_data.append(non_playoff_average)\n",
        "#         ax.plot(years, playoff_data)\n",
        "#         ax.plot(years, non_playoff_data)\n",
        "#         ax.grid(True)\n",
        "\n",
        "    \n",
        "#     plt.tight_layout()\n",
        "#     fig.legend([\"Playoff\", \"Non Playoff\"], loc='lower right', fontsize=\"x-large\", bbox_to_anchor=(0.98, 0.025))\n",
        "#     plt.show()"
      ],
      "execution_count": 4,
      "outputs": []
    },
    {
      "cell_type": "markdown",
      "metadata": {
        "id": "GlaSdwlniAc_"
      },
      "source": [
        "### Entire Dataset Functions - from 1980-2019"
      ]
    },
    {
      "cell_type": "code",
      "metadata": {
        "id": "mFm2M51vMYKo"
      },
      "source": [
        "# import matplotlib.pyplot as plt\n",
        "# def compare_decades_boxplots(df_dict, variables, n_rows, n_cols):\n",
        "#     \"\"\"\n",
        "#     => create boxplots of all variables passed in\n",
        "#     => df_dict, data should be a dictionary with => decade: df \n",
        "#     \"\"\"\n",
        "\n",
        "#     fig=plt.figure(figsize=(25,25), facecolor=\"white\")\n",
        "\n",
        "#     # get the desired variable first\n",
        "#     for i, var_name in enumerate(variables):\n",
        "#         ax=fig.add_subplot(n_rows,n_cols,i+1)\n",
        "#         ax.set_title(var_name +\" Box Plot\")\n",
        "#         ax.yaxis.grid(True)\n",
        "#         ax.set_xlabel('Decade')\n",
        "#         ax.set_ylabel('Observed values')\n",
        "#         data=[]\n",
        "#         # get selected variable from each dataframe\n",
        "#         for decade, dataframe in df_dict.items():\n",
        "#             data.append(dataframe[var_name])\n",
        "\n",
        "#         ax.boxplot(data, labels=df_dict.keys())\n",
        "\n",
        "#     plt.tight_layout()\n",
        "#     plt.show()"
      ],
      "execution_count": 5,
      "outputs": []
    },
    {
      "cell_type": "markdown",
      "metadata": {
        "id": "2eO9D9DbiFnn"
      },
      "source": [
        "### Decade Functions"
      ]
    },
    {
      "cell_type": "code",
      "metadata": {
        "id": "ip_rgttjew2X"
      },
      "source": [
        "# import seaborn as sns\n",
        "# def single_heatmap(df):\n",
        "#     \"\"\"\n",
        "#     => create a single heatmap with all variables in df\n",
        "#     \"\"\"\n",
        "#     sns.set(style=\"white\")\n",
        "#     corr = df.select_dtypes(\"float64\").corr()\n",
        "#     mask = np.zeros_like(corr)\n",
        "#     mask[np.triu_indices_from(mask)]=True\n",
        "\n",
        "#     ax = plt.subplots(figsize=(25,25))\n",
        "#     ax = sns.heatmap(corr, annot=True,  linewidths=0.5, cmap=\"coolwarm\", square=True, mask=mask)\n",
        "\n",
        "#     plt.show()"
      ],
      "execution_count": 7,
      "outputs": [
        {
          "output_type": "error",
          "ename": "ModuleNotFoundError",
          "evalue": "No module named &#39;seaborn&#39;",
          "traceback": [
            "\u001b[1;31m---------------------------------------------------------------------------\u001b[0m",
            "\u001b[1;31mModuleNotFoundError\u001b[0m                       Traceback (most recent call last)",
            "\u001b[1;32m&lt;ipython-input-7-355a8d1bf1d8&gt;\u001b[0m in \u001b[0;36m&lt;module&gt;\u001b[1;34m\u001b[0m\n\u001b[1;32m----&gt; 1\u001b[1;33m \u001b[1;32mimport\u001b[0m \u001b[0mseaborn\u001b[0m \u001b[1;32mas\u001b[0m \u001b[0msns\u001b[0m\u001b[1;33m\u001b[0m\u001b[1;33m\u001b[0m\u001b[0m\n\u001b[0m\u001b[0;32m      2\u001b[0m \u001b[1;32mdef\u001b[0m \u001b[0msingle_heatmap\u001b[0m\u001b[1;33m(\u001b[0m\u001b[0mdf\u001b[0m\u001b[1;33m)\u001b[0m\u001b[1;33m:\u001b[0m\u001b[1;33m\u001b[0m\u001b[1;33m\u001b[0m\u001b[0m\n\u001b[0;32m      3\u001b[0m     &quot;&quot;&quot;\n\u001b[0;32m      4\u001b[0m     \u001b[1;33m=\u001b[0m\u001b[1;33m&gt;\u001b[0m \u001b[0mcreate\u001b[0m \u001b[0ma\u001b[0m \u001b[0msingle\u001b[0m \u001b[0mheatmap\u001b[0m \u001b[1;32mwith\u001b[0m \u001b[0mall\u001b[0m \u001b[0mvariables\u001b[0m \u001b[1;32min\u001b[0m \u001b[0mdf\u001b[0m\u001b[1;33m\u001b[0m\u001b[1;33m\u001b[0m\u001b[0m\n\u001b[0;32m      5\u001b[0m     &quot;&quot;&quot;\n",
            "\u001b[1;31mModuleNotFoundError\u001b[0m: No module named &#39;seaborn&#39;"
          ]
        }
      ]
    },
    {
      "cell_type": "code",
      "metadata": {
        "id": "0py9XtEtjRn0"
      },
      "source": [
        "# def single_histogram(df, variables, n_rows=7, n_cols=5):\n",
        "#     \"\"\"\n",
        "#     => create histograms for each variable passed in from the df \n",
        "#     \"\"\"\n",
        "#     fig=plt.figure(figsize=(15,15), facecolor='white')\n",
        "#     for i, var_name in enumerate(variables):\n",
        "#         ax=fig.add_subplot(n_rows,n_cols,i+1)\n",
        "#         df[var_name].hist(bins=20,ax=ax)\n",
        "#         ax.set_title(var_name+\" Distribution\")\n",
        "#         ax.set_xlabel(\"%s\" % var_name)\n",
        "#         ax.set_ylabel('Observed values')\n",
        "#         plt.tight_layout()\n",
        "    \n",
        "#     plt.show()"
      ],
      "execution_count": 17,
      "outputs": []
    },
    {
      "cell_type": "code",
      "metadata": {
        "id": "wGPHo6BCCT7-"
      },
      "source": [
        "# def compare_playoff_count(df):\n",
        "#     grouped = count_decade_playoffs(df)\n",
        "#     plt.figure(figsize=(15,10), facecolor=\"white\")\n",
        "#     # plt.bar(sorted(df[\"Team\"].unique()), align='center', width=0.8, grouped=grouped)\n",
        "#     plt.bar(grouped[\"Team\"], grouped[\"Playoff\"])\n",
        "#     plt.xticks(rotation=90)\n",
        "#     plt.ylabel('# of Playoff Appearances')\n",
        "#     plt.xlabel('Team')\n",
        "#     plt.title('Playoff Appearances Between {}-{}'.format(df[\"Year\"].min(), df[\"Year\"].max()))\n",
        "#     plt.tight_layout()\n",
        "#     plt.show()"
      ],
      "execution_count": 18,
      "outputs": []
    },
    {
      "cell_type": "code",
      "metadata": {
        "id": "KeQPWe_ELFpY"
      },
      "source": [
        "# def get_team_decade_stats(team, decade, n_rows=5, n_cols=5): \n",
        "#     \"\"\"\n",
        "#     => get all stats for selected team in wanted decade\n",
        "#     \"\"\"\n",
        "#     decade_df = decade_dict[\"{}'s\".format(decade)]\n",
        "#     stat_cols = decade_df.select_dtypes(\"float64\").columns\n",
        "#     team_df = decade_df.loc[decade_df[\"Team\"] == team]\n",
        "#     team_stat_df = team_df[stat_cols]\n",
        "\n",
        "#     fig=plt.figure(figsize=(25,25), facecolor=\"white\")\n",
        "\n",
        "#     # get the desired variable first\n",
        "#     for i, var_name in enumerate(stat_cols):\n",
        "#         ax=fig.add_subplot(n_rows,n_cols,i+1)\n",
        "#         ax.set_title(var_name +\" Box Plot\")\n",
        "#         ax.yaxis.grid(True)\n",
        "#         ax.set_xlabel(var_name)\n",
        "#         ax.set_ylabel('Observed values')\n",
        "#         ax.get_xaxis().set_visible(False)\n",
        "        \n",
        "#         ax.boxplot(team_stat_df[var_name])\n",
        "#     fig.suptitle(\"{}'s in the {}'s\".format(team, decade), size=25)\n",
        "#     plt.tight_layout()\n",
        "#     fig.subplots_adjust(top=0.95)\n",
        "#     plt.show()"
      ],
      "execution_count": 19,
      "outputs": []
    },
    {
      "cell_type": "code",
      "metadata": {
        "id": "4Nd_gN3TOBVC"
      },
      "source": [
        "# def count_decade_playoffs(df):\n",
        "#     all_time_playoffs = (df.groupby([\"Team\"]).sum())[\"Playoff\"].reset_index()\n",
        "#     return all_time_playoffs"
      ],
      "execution_count": 20,
      "outputs": []
    },
    {
      "cell_type": "markdown",
      "metadata": {
        "id": "0x94ktnKcfon"
      },
      "source": [
        "## Dataset Breakdown"
      ]
    },
    {
      "cell_type": "markdown",
      "metadata": {
        "id": "CSsraRDDCwmX"
      },
      "source": [
        "To make the data more accessible by the decade, I further broke down the data set into a dictionary with the decade as the key, and a data set to the respective decade. For example, calling *decade_dict[\"1980's\"]* would return the data set containing all the data from 1980-1989."
      ]
    },
    {
      "cell_type": "code",
      "metadata": {
        "id": "nnBCVdDlZevR",
        "tags": []
      },
      "source": [
        "# import matplotlib.pyplot as plt\n",
        "import numpy as np\n",
        "import pandas as pd"
      ],
      "execution_count": 18,
      "outputs": []
    },
    {
      "cell_type": "code",
      "execution_count": 19,
      "metadata": {
        "tags": []
      },
      "outputs": [],
      "source": [
        "import os\n",
        "dirname = os.path.abspath('')\n",
        "filename = os.path.join(dirname, '../web_app/csv_data/renamed_teams.csv')"
      ]
    },
    {
      "cell_type": "code",
      "metadata": {
        "id": "vcXAsXuTelO5",
        "outputId": "0f383bf5-70e1-4977-ba30-23adec69f5cc",
        "colab": {
          "base_uri": "https://localhost:8080/",
          "height": 204
        }
      },
      "source": [
        "main_og = pd.read_csv(filename)\n",
        "main_df = add_adv_stats(main_og)\n",
        "main_df.head()"
      ],
      "execution_count": 20,
      "outputs": [
        {
          "output_type": "execute_result",
          "data": {
            "text/plain": [
              "   Rk                 Team   G     MP    FG   FGA    FG%   3P  3PA    3P%  \\\n",
              "0   1    San Antonio Spurs  82  240.9  47.0  94.4  0.498  0.6  2.5  0.252   \n",
              "1   2   Los Angeles Lakers  82  242.4  47.5  89.9  0.529  0.2  1.2  0.200   \n",
              "2   3  Cleveland Cavaliers  82  243.0  46.5  98.1  0.474  0.4  2.3  0.193   \n",
              "3   4      New York Knicks  82  241.2  46.4  93.6  0.496  0.5  2.3  0.220   \n",
              "4   5       Boston Celtics  82  242.4  44.1  90.1  0.490  2.0  5.1  0.384   \n",
              "\n",
              "   ...  Playoff       PPM       POSS      DRBP         DE          OE  \\\n",
              "0  ...        1  0.495641  108.72192  0.711776  93.749261  109.821460   \n",
              "1  ...        1  0.474835  103.60320  0.722706  98.381128  111.096955   \n",
              "2  ...        0  0.469547  106.30656  0.699950  95.879310  107.331100   \n",
              "3  ...        0  0.472637  105.97248  0.693288  96.181571  107.575099   \n",
              "4  ...        1  0.468234  102.77376  0.707022  99.175117  110.436750   \n",
              "\n",
              "          ED        TR       EFG%       FTR  \n",
              "0  16.072199  1.295579  47.003178  0.326271  \n",
              "1  12.715827  1.585666  47.501112  0.283648  \n",
              "2  11.451790  1.261234  46.502039  0.274210  \n",
              "3  11.393527  1.448849  46.402671  0.295940  \n",
              "4  11.261633  1.295390  44.111099  0.331853  \n",
              "\n",
              "[5 rows x 36 columns]"
            ],
            "text/html": "<div>\n<style scoped>\n    .dataframe tbody tr th:only-of-type {\n        vertical-align: middle;\n    }\n\n    .dataframe tbody tr th {\n        vertical-align: top;\n    }\n\n    .dataframe thead th {\n        text-align: right;\n    }\n</style>\n<table border=\"1\" class=\"dataframe\">\n  <thead>\n    <tr style=\"text-align: right;\">\n      <th></th>\n      <th>Rk</th>\n      <th>Team</th>\n      <th>G</th>\n      <th>MP</th>\n      <th>FG</th>\n      <th>FGA</th>\n      <th>FG%</th>\n      <th>3P</th>\n      <th>3PA</th>\n      <th>3P%</th>\n      <th>...</th>\n      <th>Playoff</th>\n      <th>PPM</th>\n      <th>POSS</th>\n      <th>DRBP</th>\n      <th>DE</th>\n      <th>OE</th>\n      <th>ED</th>\n      <th>TR</th>\n      <th>EFG%</th>\n      <th>FTR</th>\n    </tr>\n  </thead>\n  <tbody>\n    <tr>\n      <th>0</th>\n      <td>1</td>\n      <td>San Antonio Spurs</td>\n      <td>82</td>\n      <td>240.9</td>\n      <td>47.0</td>\n      <td>94.4</td>\n      <td>0.498</td>\n      <td>0.6</td>\n      <td>2.5</td>\n      <td>0.252</td>\n      <td>...</td>\n      <td>1</td>\n      <td>0.495641</td>\n      <td>108.72192</td>\n      <td>0.711776</td>\n      <td>93.749261</td>\n      <td>109.821460</td>\n      <td>16.072199</td>\n      <td>1.295579</td>\n      <td>47.003178</td>\n      <td>0.326271</td>\n    </tr>\n    <tr>\n      <th>1</th>\n      <td>2</td>\n      <td>Los Angeles Lakers</td>\n      <td>82</td>\n      <td>242.4</td>\n      <td>47.5</td>\n      <td>89.9</td>\n      <td>0.529</td>\n      <td>0.2</td>\n      <td>1.2</td>\n      <td>0.200</td>\n      <td>...</td>\n      <td>1</td>\n      <td>0.474835</td>\n      <td>103.60320</td>\n      <td>0.722706</td>\n      <td>98.381128</td>\n      <td>111.096955</td>\n      <td>12.715827</td>\n      <td>1.585666</td>\n      <td>47.501112</td>\n      <td>0.283648</td>\n    </tr>\n    <tr>\n      <th>2</th>\n      <td>3</td>\n      <td>Cleveland Cavaliers</td>\n      <td>82</td>\n      <td>243.0</td>\n      <td>46.5</td>\n      <td>98.1</td>\n      <td>0.474</td>\n      <td>0.4</td>\n      <td>2.3</td>\n      <td>0.193</td>\n      <td>...</td>\n      <td>0</td>\n      <td>0.469547</td>\n      <td>106.30656</td>\n      <td>0.699950</td>\n      <td>95.879310</td>\n      <td>107.331100</td>\n      <td>11.451790</td>\n      <td>1.261234</td>\n      <td>46.502039</td>\n      <td>0.274210</td>\n    </tr>\n    <tr>\n      <th>3</th>\n      <td>4</td>\n      <td>New York Knicks</td>\n      <td>82</td>\n      <td>241.2</td>\n      <td>46.4</td>\n      <td>93.6</td>\n      <td>0.496</td>\n      <td>0.5</td>\n      <td>2.3</td>\n      <td>0.220</td>\n      <td>...</td>\n      <td>0</td>\n      <td>0.472637</td>\n      <td>105.97248</td>\n      <td>0.693288</td>\n      <td>96.181571</td>\n      <td>107.575099</td>\n      <td>11.393527</td>\n      <td>1.448849</td>\n      <td>46.402671</td>\n      <td>0.295940</td>\n    </tr>\n    <tr>\n      <th>4</th>\n      <td>5</td>\n      <td>Boston Celtics</td>\n      <td>82</td>\n      <td>242.4</td>\n      <td>44.1</td>\n      <td>90.1</td>\n      <td>0.490</td>\n      <td>2.0</td>\n      <td>5.1</td>\n      <td>0.384</td>\n      <td>...</td>\n      <td>1</td>\n      <td>0.468234</td>\n      <td>102.77376</td>\n      <td>0.707022</td>\n      <td>99.175117</td>\n      <td>110.436750</td>\n      <td>11.261633</td>\n      <td>1.295390</td>\n      <td>44.111099</td>\n      <td>0.331853</td>\n    </tr>\n  </tbody>\n</table>\n<p>5 rows × 36 columns</p>\n</div>"
          },
          "metadata": {},
          "execution_count": 20
        }
      ]
    },
    {
      "cell_type": "code",
      "metadata": {
        "id": "7kYs_pX34-Bn"
      },
      "source": [
        "\"\"\"\n",
        "split main\n",
        "    => yearly_index[0] = 1980-81 NBA season team stats\n",
        "    => yearly_index[39] = 2018-19 NBA season team stats\n",
        "\"\"\"\n",
        "yearly_dfs = [x for _, x in main_df.groupby(\"Year\")]"
      ],
      "execution_count": 21,
      "outputs": []
    },
    {
      "cell_type": "code",
      "metadata": {
        "id": "wVGOpeej9Ysl",
        "outputId": "f533762a-a6bd-4b3a-9bc2-732be24dd666",
        "colab": {
          "base_uri": "https://localhost:8080/"
        }
      },
      "source": [
        "# sort data by decade\n",
        "bins = [-1, 1989, 1999, 2009, 2019]\n",
        "labels = [\"1980's\", \"1990's\",\"2000's\",\"2010's\"]\n",
        "binned_df = main_df.groupby(pd.cut(main_df['Year'], bins=bins, labels=labels))\n",
        "binned_df.head(3)"
      ],
      "execution_count": 22,
      "outputs": [
        {
          "output_type": "execute_result",
          "data": {
            "text/plain": [
              "     Rk                   Team   G     MP    FG   FGA    FG%   3P   3PA  \\\n",
              "0     1      San Antonio Spurs  82  240.9  47.0  94.4  0.498  0.6   2.5   \n",
              "1     2     Los Angeles Lakers  82  242.4  47.5  89.9  0.529  0.2   1.2   \n",
              "2     3    Cleveland Cavaliers  82  243.0  46.5  98.1  0.474  0.4   2.3   \n",
              "231   1  Golden State Warriors  82  240.3  42.5  87.9  0.484  3.0   9.1   \n",
              "232   2           Phoenix Suns  82  242.1  43.2  87.1  0.496  2.1   6.6   \n",
              "233   3         Denver Nuggets  82  241.5  45.3  97.7  0.464  2.8   8.3   \n",
              "509   1       Sacramento Kings  82  241.5  40.0  88.9  0.450  6.5  20.2   \n",
              "510   2        Detroit Pistons  82  241.8  37.1  80.9  0.459  5.4  14.9   \n",
              "511   3       Dallas Mavericks  82  240.6  39.0  85.9  0.453  6.3  16.2   \n",
              "804   1           Phoenix Suns  82  240.6  40.7  82.8  0.492  8.9  21.6   \n",
              "805   2  Golden State Warriors  82  240.6  40.6  86.5  0.469  7.7  20.6   \n",
              "806   3         Denver Nuggets  82  241.2  38.1  81.4  0.468  6.6  18.5   \n",
              "\n",
              "       3P%  ...  Playoff       PPM       POSS      DRBP          DE  \\\n",
              "0    0.252  ...        1  0.495641  108.72192  0.711776   93.749261   \n",
              "1    0.200  ...        1  0.474835  103.60320  0.722706   98.381128   \n",
              "2    0.193  ...        0  0.469547  106.30656  0.699950   95.879310   \n",
              "231  0.324  ...        0  0.483978  104.98176  0.700673   97.089243   \n",
              "232  0.324  ...        1  0.474597  100.18944  0.722086  101.733273   \n",
              "233  0.337  ...        1  0.474534  104.72832  0.713107   97.324197   \n",
              "509  0.322  ...        1  0.434783   98.90304  0.720838  103.056485   \n",
              "510  0.359  ...        1  0.428040   94.90944  0.707022  107.392896   \n",
              "511  0.391  ...        0  0.421446   93.71136  0.705634  108.765892   \n",
              "804  0.412  ...        1  0.458022   93.93792  0.719578  108.503570   \n",
              "805  0.375  ...        0  0.452203   99.04896  0.701392  102.904661   \n",
              "806  0.359  ...        1  0.441542   94.04544  0.710434  108.379520   \n",
              "\n",
              "             OE         ED        TR       EFG%       FTR  \n",
              "0    109.821460  16.072199  1.295579  47.003178  0.326271  \n",
              "1    111.096955  12.715827  1.585666  47.501112  0.283648  \n",
              "2    107.331100  11.451790  1.261234  46.502039  0.274210  \n",
              "231  110.781149  13.691906  1.039101  42.517065  0.397042  \n",
              "232  114.682745  12.949472  0.978103  43.212055  0.380023  \n",
              "233  109.425989  12.101792  1.054228  45.314330  0.274309  \n",
              "509  106.164583   3.108098  1.337406  40.036558  0.276715  \n",
              "510  109.051323   1.658427  1.072551  37.133375  0.378245  \n",
              "511  108.204598  -0.561294  1.288442  39.036671  0.249127  \n",
              "804  117.311518   8.807949  1.178250  40.753744  0.311594  \n",
              "805  109.844667   6.940006  1.184338  40.644509  0.293642  \n",
              "806  113.243130   4.863610  0.950297  38.140541  0.375921  \n",
              "\n",
              "[12 rows x 36 columns]"
            ],
            "text/html": "<div>\n<style scoped>\n    .dataframe tbody tr th:only-of-type {\n        vertical-align: middle;\n    }\n\n    .dataframe tbody tr th {\n        vertical-align: top;\n    }\n\n    .dataframe thead th {\n        text-align: right;\n    }\n</style>\n<table border=\"1\" class=\"dataframe\">\n  <thead>\n    <tr style=\"text-align: right;\">\n      <th></th>\n      <th>Rk</th>\n      <th>Team</th>\n      <th>G</th>\n      <th>MP</th>\n      <th>FG</th>\n      <th>FGA</th>\n      <th>FG%</th>\n      <th>3P</th>\n      <th>3PA</th>\n      <th>3P%</th>\n      <th>...</th>\n      <th>Playoff</th>\n      <th>PPM</th>\n      <th>POSS</th>\n      <th>DRBP</th>\n      <th>DE</th>\n      <th>OE</th>\n      <th>ED</th>\n      <th>TR</th>\n      <th>EFG%</th>\n      <th>FTR</th>\n    </tr>\n  </thead>\n  <tbody>\n    <tr>\n      <th>0</th>\n      <td>1</td>\n      <td>San Antonio Spurs</td>\n      <td>82</td>\n      <td>240.9</td>\n      <td>47.0</td>\n      <td>94.4</td>\n      <td>0.498</td>\n      <td>0.6</td>\n      <td>2.5</td>\n      <td>0.252</td>\n      <td>...</td>\n      <td>1</td>\n      <td>0.495641</td>\n      <td>108.72192</td>\n      <td>0.711776</td>\n      <td>93.749261</td>\n      <td>109.821460</td>\n      <td>16.072199</td>\n      <td>1.295579</td>\n      <td>47.003178</td>\n      <td>0.326271</td>\n    </tr>\n    <tr>\n      <th>1</th>\n      <td>2</td>\n      <td>Los Angeles Lakers</td>\n      <td>82</td>\n      <td>242.4</td>\n      <td>47.5</td>\n      <td>89.9</td>\n      <td>0.529</td>\n      <td>0.2</td>\n      <td>1.2</td>\n      <td>0.200</td>\n      <td>...</td>\n      <td>1</td>\n      <td>0.474835</td>\n      <td>103.60320</td>\n      <td>0.722706</td>\n      <td>98.381128</td>\n      <td>111.096955</td>\n      <td>12.715827</td>\n      <td>1.585666</td>\n      <td>47.501112</td>\n      <td>0.283648</td>\n    </tr>\n    <tr>\n      <th>2</th>\n      <td>3</td>\n      <td>Cleveland Cavaliers</td>\n      <td>82</td>\n      <td>243.0</td>\n      <td>46.5</td>\n      <td>98.1</td>\n      <td>0.474</td>\n      <td>0.4</td>\n      <td>2.3</td>\n      <td>0.193</td>\n      <td>...</td>\n      <td>0</td>\n      <td>0.469547</td>\n      <td>106.30656</td>\n      <td>0.699950</td>\n      <td>95.879310</td>\n      <td>107.331100</td>\n      <td>11.451790</td>\n      <td>1.261234</td>\n      <td>46.502039</td>\n      <td>0.274210</td>\n    </tr>\n    <tr>\n      <th>231</th>\n      <td>1</td>\n      <td>Golden State Warriors</td>\n      <td>82</td>\n      <td>240.3</td>\n      <td>42.5</td>\n      <td>87.9</td>\n      <td>0.484</td>\n      <td>3.0</td>\n      <td>9.1</td>\n      <td>0.324</td>\n      <td>...</td>\n      <td>0</td>\n      <td>0.483978</td>\n      <td>104.98176</td>\n      <td>0.700673</td>\n      <td>97.089243</td>\n      <td>110.781149</td>\n      <td>13.691906</td>\n      <td>1.039101</td>\n      <td>42.517065</td>\n      <td>0.397042</td>\n    </tr>\n    <tr>\n      <th>232</th>\n      <td>2</td>\n      <td>Phoenix Suns</td>\n      <td>82</td>\n      <td>242.1</td>\n      <td>43.2</td>\n      <td>87.1</td>\n      <td>0.496</td>\n      <td>2.1</td>\n      <td>6.6</td>\n      <td>0.324</td>\n      <td>...</td>\n      <td>1</td>\n      <td>0.474597</td>\n      <td>100.18944</td>\n      <td>0.722086</td>\n      <td>101.733273</td>\n      <td>114.682745</td>\n      <td>12.949472</td>\n      <td>0.978103</td>\n      <td>43.212055</td>\n      <td>0.380023</td>\n    </tr>\n    <tr>\n      <th>233</th>\n      <td>3</td>\n      <td>Denver Nuggets</td>\n      <td>82</td>\n      <td>241.5</td>\n      <td>45.3</td>\n      <td>97.7</td>\n      <td>0.464</td>\n      <td>2.8</td>\n      <td>8.3</td>\n      <td>0.337</td>\n      <td>...</td>\n      <td>1</td>\n      <td>0.474534</td>\n      <td>104.72832</td>\n      <td>0.713107</td>\n      <td>97.324197</td>\n      <td>109.425989</td>\n      <td>12.101792</td>\n      <td>1.054228</td>\n      <td>45.314330</td>\n      <td>0.274309</td>\n    </tr>\n    <tr>\n      <th>509</th>\n      <td>1</td>\n      <td>Sacramento Kings</td>\n      <td>82</td>\n      <td>241.5</td>\n      <td>40.0</td>\n      <td>88.9</td>\n      <td>0.450</td>\n      <td>6.5</td>\n      <td>20.2</td>\n      <td>0.322</td>\n      <td>...</td>\n      <td>1</td>\n      <td>0.434783</td>\n      <td>98.90304</td>\n      <td>0.720838</td>\n      <td>103.056485</td>\n      <td>106.164583</td>\n      <td>3.108098</td>\n      <td>1.337406</td>\n      <td>40.036558</td>\n      <td>0.276715</td>\n    </tr>\n    <tr>\n      <th>510</th>\n      <td>2</td>\n      <td>Detroit Pistons</td>\n      <td>82</td>\n      <td>241.8</td>\n      <td>37.1</td>\n      <td>80.9</td>\n      <td>0.459</td>\n      <td>5.4</td>\n      <td>14.9</td>\n      <td>0.359</td>\n      <td>...</td>\n      <td>1</td>\n      <td>0.428040</td>\n      <td>94.90944</td>\n      <td>0.707022</td>\n      <td>107.392896</td>\n      <td>109.051323</td>\n      <td>1.658427</td>\n      <td>1.072551</td>\n      <td>37.133375</td>\n      <td>0.378245</td>\n    </tr>\n    <tr>\n      <th>511</th>\n      <td>3</td>\n      <td>Dallas Mavericks</td>\n      <td>82</td>\n      <td>240.6</td>\n      <td>39.0</td>\n      <td>85.9</td>\n      <td>0.453</td>\n      <td>6.3</td>\n      <td>16.2</td>\n      <td>0.391</td>\n      <td>...</td>\n      <td>0</td>\n      <td>0.421446</td>\n      <td>93.71136</td>\n      <td>0.705634</td>\n      <td>108.765892</td>\n      <td>108.204598</td>\n      <td>-0.561294</td>\n      <td>1.288442</td>\n      <td>39.036671</td>\n      <td>0.249127</td>\n    </tr>\n    <tr>\n      <th>804</th>\n      <td>1</td>\n      <td>Phoenix Suns</td>\n      <td>82</td>\n      <td>240.6</td>\n      <td>40.7</td>\n      <td>82.8</td>\n      <td>0.492</td>\n      <td>8.9</td>\n      <td>21.6</td>\n      <td>0.412</td>\n      <td>...</td>\n      <td>1</td>\n      <td>0.458022</td>\n      <td>93.93792</td>\n      <td>0.719578</td>\n      <td>108.503570</td>\n      <td>117.311518</td>\n      <td>8.807949</td>\n      <td>1.178250</td>\n      <td>40.753744</td>\n      <td>0.311594</td>\n    </tr>\n    <tr>\n      <th>805</th>\n      <td>2</td>\n      <td>Golden State Warriors</td>\n      <td>82</td>\n      <td>240.6</td>\n      <td>40.6</td>\n      <td>86.5</td>\n      <td>0.469</td>\n      <td>7.7</td>\n      <td>20.6</td>\n      <td>0.375</td>\n      <td>...</td>\n      <td>0</td>\n      <td>0.452203</td>\n      <td>99.04896</td>\n      <td>0.701392</td>\n      <td>102.904661</td>\n      <td>109.844667</td>\n      <td>6.940006</td>\n      <td>1.184338</td>\n      <td>40.644509</td>\n      <td>0.293642</td>\n    </tr>\n    <tr>\n      <th>806</th>\n      <td>3</td>\n      <td>Denver Nuggets</td>\n      <td>82</td>\n      <td>241.2</td>\n      <td>38.1</td>\n      <td>81.4</td>\n      <td>0.468</td>\n      <td>6.6</td>\n      <td>18.5</td>\n      <td>0.359</td>\n      <td>...</td>\n      <td>1</td>\n      <td>0.441542</td>\n      <td>94.04544</td>\n      <td>0.710434</td>\n      <td>108.379520</td>\n      <td>113.243130</td>\n      <td>4.863610</td>\n      <td>0.950297</td>\n      <td>38.140541</td>\n      <td>0.375921</td>\n    </tr>\n  </tbody>\n</table>\n<p>12 rows × 36 columns</p>\n</div>"
          },
          "metadata": {},
          "execution_count": 22
        }
      ]
    },
    {
      "cell_type": "code",
      "metadata": {
        "id": "51cNhChyI9sH",
        "outputId": "7fdab7c8-879a-43be-e87a-48dec90640cb",
        "colab": {
          "base_uri": "https://localhost:8080/"
        }
      },
      "source": [
        "\"\"\"\n",
        "    => extracting the binned data from binned_df\n",
        "    => accessible by indexing their labels, refer to binned_df code block\n",
        "\n",
        "    => structure: {key: dataframe}\n",
        "\"\"\"\n",
        "decade_dict = dict(list(binned_df))\n",
        "decade_dict[\"1980's\"].head() # getting the 80's data"
      ],
      "execution_count": 23,
      "outputs": [
        {
          "output_type": "execute_result",
          "data": {
            "text/plain": [
              "   Rk                 Team   G     MP    FG   FGA    FG%   3P  3PA    3P%  \\\n",
              "0   1    San Antonio Spurs  82  240.9  47.0  94.4  0.498  0.6  2.5  0.252   \n",
              "1   2   Los Angeles Lakers  82  242.4  47.5  89.9  0.529  0.2  1.2  0.200   \n",
              "2   3  Cleveland Cavaliers  82  243.0  46.5  98.1  0.474  0.4  2.3  0.193   \n",
              "3   4      New York Knicks  82  241.2  46.4  93.6  0.496  0.5  2.3  0.220   \n",
              "4   5       Boston Celtics  82  242.4  44.1  90.1  0.490  2.0  5.1  0.384   \n",
              "\n",
              "   ...  Playoff       PPM       POSS      DRBP         DE          OE  \\\n",
              "0  ...        1  0.495641  108.72192  0.711776  93.749261  109.821460   \n",
              "1  ...        1  0.474835  103.60320  0.722706  98.381128  111.096955   \n",
              "2  ...        0  0.469547  106.30656  0.699950  95.879310  107.331100   \n",
              "3  ...        0  0.472637  105.97248  0.693288  96.181571  107.575099   \n",
              "4  ...        1  0.468234  102.77376  0.707022  99.175117  110.436750   \n",
              "\n",
              "          ED        TR       EFG%       FTR  \n",
              "0  16.072199  1.295579  47.003178  0.326271  \n",
              "1  12.715827  1.585666  47.501112  0.283648  \n",
              "2  11.451790  1.261234  46.502039  0.274210  \n",
              "3  11.393527  1.448849  46.402671  0.295940  \n",
              "4  11.261633  1.295390  44.111099  0.331853  \n",
              "\n",
              "[5 rows x 36 columns]"
            ],
            "text/html": "<div>\n<style scoped>\n    .dataframe tbody tr th:only-of-type {\n        vertical-align: middle;\n    }\n\n    .dataframe tbody tr th {\n        vertical-align: top;\n    }\n\n    .dataframe thead th {\n        text-align: right;\n    }\n</style>\n<table border=\"1\" class=\"dataframe\">\n  <thead>\n    <tr style=\"text-align: right;\">\n      <th></th>\n      <th>Rk</th>\n      <th>Team</th>\n      <th>G</th>\n      <th>MP</th>\n      <th>FG</th>\n      <th>FGA</th>\n      <th>FG%</th>\n      <th>3P</th>\n      <th>3PA</th>\n      <th>3P%</th>\n      <th>...</th>\n      <th>Playoff</th>\n      <th>PPM</th>\n      <th>POSS</th>\n      <th>DRBP</th>\n      <th>DE</th>\n      <th>OE</th>\n      <th>ED</th>\n      <th>TR</th>\n      <th>EFG%</th>\n      <th>FTR</th>\n    </tr>\n  </thead>\n  <tbody>\n    <tr>\n      <th>0</th>\n      <td>1</td>\n      <td>San Antonio Spurs</td>\n      <td>82</td>\n      <td>240.9</td>\n      <td>47.0</td>\n      <td>94.4</td>\n      <td>0.498</td>\n      <td>0.6</td>\n      <td>2.5</td>\n      <td>0.252</td>\n      <td>...</td>\n      <td>1</td>\n      <td>0.495641</td>\n      <td>108.72192</td>\n      <td>0.711776</td>\n      <td>93.749261</td>\n      <td>109.821460</td>\n      <td>16.072199</td>\n      <td>1.295579</td>\n      <td>47.003178</td>\n      <td>0.326271</td>\n    </tr>\n    <tr>\n      <th>1</th>\n      <td>2</td>\n      <td>Los Angeles Lakers</td>\n      <td>82</td>\n      <td>242.4</td>\n      <td>47.5</td>\n      <td>89.9</td>\n      <td>0.529</td>\n      <td>0.2</td>\n      <td>1.2</td>\n      <td>0.200</td>\n      <td>...</td>\n      <td>1</td>\n      <td>0.474835</td>\n      <td>103.60320</td>\n      <td>0.722706</td>\n      <td>98.381128</td>\n      <td>111.096955</td>\n      <td>12.715827</td>\n      <td>1.585666</td>\n      <td>47.501112</td>\n      <td>0.283648</td>\n    </tr>\n    <tr>\n      <th>2</th>\n      <td>3</td>\n      <td>Cleveland Cavaliers</td>\n      <td>82</td>\n      <td>243.0</td>\n      <td>46.5</td>\n      <td>98.1</td>\n      <td>0.474</td>\n      <td>0.4</td>\n      <td>2.3</td>\n      <td>0.193</td>\n      <td>...</td>\n      <td>0</td>\n      <td>0.469547</td>\n      <td>106.30656</td>\n      <td>0.699950</td>\n      <td>95.879310</td>\n      <td>107.331100</td>\n      <td>11.451790</td>\n      <td>1.261234</td>\n      <td>46.502039</td>\n      <td>0.274210</td>\n    </tr>\n    <tr>\n      <th>3</th>\n      <td>4</td>\n      <td>New York Knicks</td>\n      <td>82</td>\n      <td>241.2</td>\n      <td>46.4</td>\n      <td>93.6</td>\n      <td>0.496</td>\n      <td>0.5</td>\n      <td>2.3</td>\n      <td>0.220</td>\n      <td>...</td>\n      <td>0</td>\n      <td>0.472637</td>\n      <td>105.97248</td>\n      <td>0.693288</td>\n      <td>96.181571</td>\n      <td>107.575099</td>\n      <td>11.393527</td>\n      <td>1.448849</td>\n      <td>46.402671</td>\n      <td>0.295940</td>\n    </tr>\n    <tr>\n      <th>4</th>\n      <td>5</td>\n      <td>Boston Celtics</td>\n      <td>82</td>\n      <td>242.4</td>\n      <td>44.1</td>\n      <td>90.1</td>\n      <td>0.490</td>\n      <td>2.0</td>\n      <td>5.1</td>\n      <td>0.384</td>\n      <td>...</td>\n      <td>1</td>\n      <td>0.468234</td>\n      <td>102.77376</td>\n      <td>0.707022</td>\n      <td>99.175117</td>\n      <td>110.436750</td>\n      <td>11.261633</td>\n      <td>1.295390</td>\n      <td>44.111099</td>\n      <td>0.331853</td>\n    </tr>\n  </tbody>\n</table>\n<p>5 rows × 36 columns</p>\n</div>"
          },
          "metadata": {},
          "execution_count": 23
        }
      ]
    },
    {
      "cell_type": "markdown",
      "metadata": {
        "id": "SVnuVUfYcaPc"
      },
      "source": [
        "# EDA"
      ]
    },
    {
      "cell_type": "markdown",
      "metadata": {
        "id": "f4Y86HOAcvOe"
      },
      "source": [
        "## Stat Distribution"
      ]
    },
    {
      "cell_type": "markdown",
      "metadata": {
        "id": "iNq1u7O-g7-9"
      },
      "source": [
        "### Stat Distributions\n",
        "\n",
        "To get a better understanding of the data set, lets look at how each of the variables are distributed. "
      ]
    },
    {
      "cell_type": "code",
      "metadata": {
        "id": "h3J79budzOhh",
        "outputId": "f1074251-a4a6-4851-a131-e11ce2f9ea97",
        "colab": {
          "base_uri": "https://localhost:8080/"
        }
      },
      "source": [
        "main_df.describe()"
      ],
      "execution_count": 24,
      "outputs": [
        {
          "output_type": "execute_result",
          "data": {
            "text/plain": [
              "                Rk            G           MP           FG          FGA  \\\n",
              "count  1104.000000  1104.000000  1104.000000  1104.000000  1104.000000   \n",
              "mean     14.442029    80.722826   241.702627    38.752989    83.801268   \n",
              "std       8.193506     5.679342     0.840499     3.301491     4.645912   \n",
              "min       1.000000    50.000000   240.000000    30.800000    71.200000   \n",
              "25%       7.000000    82.000000   241.200000    36.300000    80.475000   \n",
              "50%      14.000000    82.000000   241.500000    38.300000    83.500000   \n",
              "75%      21.000000    82.000000   242.100000    41.100000    87.100000   \n",
              "max      30.000000    82.000000   244.900000    48.500000   108.100000   \n",
              "\n",
              "               FG%           3P          3PA          3P%           2P  ...  \\\n",
              "count  1104.000000  1104.000000  1104.000000  1104.000000  1104.000000  ...   \n",
              "mean      0.461997     4.941304    14.085326     0.332275    33.814583  ...   \n",
              "std       0.021420     3.064903     8.223425     0.047597     5.355127  ...   \n",
              "min       0.401000     0.100000     0.900000     0.104000    23.100000  ...   \n",
              "25%       0.447000     2.400000     7.400000     0.319000    29.900000  ...   \n",
              "50%       0.460500     5.000000    14.100000     0.345500    31.800000  ...   \n",
              "75%       0.476000     6.900000    19.300000     0.363000    38.500000  ...   \n",
              "max       0.545000    16.100000    45.400000     0.428000    48.200000  ...   \n",
              "\n",
              "           Playoff          PPM         POSS         DRBP           DE  \\\n",
              "count  1104.000000  1104.000000  1104.000000  1104.000000  1104.000000   \n",
              "mean      0.565217     0.421714    94.344925     0.708088   108.314906   \n",
              "std       0.495953     0.029203     4.851442     0.014172     5.449289   \n",
              "min       0.000000     0.339130    81.699840     0.666997    90.019766   \n",
              "25%       0.000000     0.400000    90.707520     0.699224   104.206537   \n",
              "50%       1.000000     0.419669    93.550080     0.707022   108.953404   \n",
              "75%       1.000000     0.441824    97.811520     0.717025   112.367747   \n",
              "max       1.000000     0.523160   113.226240     0.764695   124.756666   \n",
              "\n",
              "                OE           ED           TR         EFG%          FTR  \n",
              "count  1104.000000  1104.000000  1104.000000  1104.000000  1104.000000  \n",
              "mean    107.994892    -0.320014     1.241314    38.782834     0.308698  \n",
              "std       3.968643     7.367065     0.131456     3.292918     0.038557  \n",
              "min      92.671837   -22.891332     0.927094    30.822816     0.193961  \n",
              "25%     105.374168    -5.630136     1.151668    36.336351     0.282265  \n",
              "50%     107.832716    -0.544198     1.233307    38.333737     0.307318  \n",
              "75%     110.762835     4.979590     1.327751    41.142799     0.335698  \n",
              "max     118.600223    22.598630     1.702078    48.502677     0.432215  \n",
              "\n",
              "[8 rows x 35 columns]"
            ],
            "text/html": "<div>\n<style scoped>\n    .dataframe tbody tr th:only-of-type {\n        vertical-align: middle;\n    }\n\n    .dataframe tbody tr th {\n        vertical-align: top;\n    }\n\n    .dataframe thead th {\n        text-align: right;\n    }\n</style>\n<table border=\"1\" class=\"dataframe\">\n  <thead>\n    <tr style=\"text-align: right;\">\n      <th></th>\n      <th>Rk</th>\n      <th>G</th>\n      <th>MP</th>\n      <th>FG</th>\n      <th>FGA</th>\n      <th>FG%</th>\n      <th>3P</th>\n      <th>3PA</th>\n      <th>3P%</th>\n      <th>2P</th>\n      <th>...</th>\n      <th>Playoff</th>\n      <th>PPM</th>\n      <th>POSS</th>\n      <th>DRBP</th>\n      <th>DE</th>\n      <th>OE</th>\n      <th>ED</th>\n      <th>TR</th>\n      <th>EFG%</th>\n      <th>FTR</th>\n    </tr>\n  </thead>\n  <tbody>\n    <tr>\n      <th>count</th>\n      <td>1104.000000</td>\n      <td>1104.000000</td>\n      <td>1104.000000</td>\n      <td>1104.000000</td>\n      <td>1104.000000</td>\n      <td>1104.000000</td>\n      <td>1104.000000</td>\n      <td>1104.000000</td>\n      <td>1104.000000</td>\n      <td>1104.000000</td>\n      <td>...</td>\n      <td>1104.000000</td>\n      <td>1104.000000</td>\n      <td>1104.000000</td>\n      <td>1104.000000</td>\n      <td>1104.000000</td>\n      <td>1104.000000</td>\n      <td>1104.000000</td>\n      <td>1104.000000</td>\n      <td>1104.000000</td>\n      <td>1104.000000</td>\n    </tr>\n    <tr>\n      <th>mean</th>\n      <td>14.442029</td>\n      <td>80.722826</td>\n      <td>241.702627</td>\n      <td>38.752989</td>\n      <td>83.801268</td>\n      <td>0.461997</td>\n      <td>4.941304</td>\n      <td>14.085326</td>\n      <td>0.332275</td>\n      <td>33.814583</td>\n      <td>...</td>\n      <td>0.565217</td>\n      <td>0.421714</td>\n      <td>94.344925</td>\n      <td>0.708088</td>\n      <td>108.314906</td>\n      <td>107.994892</td>\n      <td>-0.320014</td>\n      <td>1.241314</td>\n      <td>38.782834</td>\n      <td>0.308698</td>\n    </tr>\n    <tr>\n      <th>std</th>\n      <td>8.193506</td>\n      <td>5.679342</td>\n      <td>0.840499</td>\n      <td>3.301491</td>\n      <td>4.645912</td>\n      <td>0.021420</td>\n      <td>3.064903</td>\n      <td>8.223425</td>\n      <td>0.047597</td>\n      <td>5.355127</td>\n      <td>...</td>\n      <td>0.495953</td>\n      <td>0.029203</td>\n      <td>4.851442</td>\n      <td>0.014172</td>\n      <td>5.449289</td>\n      <td>3.968643</td>\n      <td>7.367065</td>\n      <td>0.131456</td>\n      <td>3.292918</td>\n      <td>0.038557</td>\n    </tr>\n    <tr>\n      <th>min</th>\n      <td>1.000000</td>\n      <td>50.000000</td>\n      <td>240.000000</td>\n      <td>30.800000</td>\n      <td>71.200000</td>\n      <td>0.401000</td>\n      <td>0.100000</td>\n      <td>0.900000</td>\n      <td>0.104000</td>\n      <td>23.100000</td>\n      <td>...</td>\n      <td>0.000000</td>\n      <td>0.339130</td>\n      <td>81.699840</td>\n      <td>0.666997</td>\n      <td>90.019766</td>\n      <td>92.671837</td>\n      <td>-22.891332</td>\n      <td>0.927094</td>\n      <td>30.822816</td>\n      <td>0.193961</td>\n    </tr>\n    <tr>\n      <th>25%</th>\n      <td>7.000000</td>\n      <td>82.000000</td>\n      <td>241.200000</td>\n      <td>36.300000</td>\n      <td>80.475000</td>\n      <td>0.447000</td>\n      <td>2.400000</td>\n      <td>7.400000</td>\n      <td>0.319000</td>\n      <td>29.900000</td>\n      <td>...</td>\n      <td>0.000000</td>\n      <td>0.400000</td>\n      <td>90.707520</td>\n      <td>0.699224</td>\n      <td>104.206537</td>\n      <td>105.374168</td>\n      <td>-5.630136</td>\n      <td>1.151668</td>\n      <td>36.336351</td>\n      <td>0.282265</td>\n    </tr>\n    <tr>\n      <th>50%</th>\n      <td>14.000000</td>\n      <td>82.000000</td>\n      <td>241.500000</td>\n      <td>38.300000</td>\n      <td>83.500000</td>\n      <td>0.460500</td>\n      <td>5.000000</td>\n      <td>14.100000</td>\n      <td>0.345500</td>\n      <td>31.800000</td>\n      <td>...</td>\n      <td>1.000000</td>\n      <td>0.419669</td>\n      <td>93.550080</td>\n      <td>0.707022</td>\n      <td>108.953404</td>\n      <td>107.832716</td>\n      <td>-0.544198</td>\n      <td>1.233307</td>\n      <td>38.333737</td>\n      <td>0.307318</td>\n    </tr>\n    <tr>\n      <th>75%</th>\n      <td>21.000000</td>\n      <td>82.000000</td>\n      <td>242.100000</td>\n      <td>41.100000</td>\n      <td>87.100000</td>\n      <td>0.476000</td>\n      <td>6.900000</td>\n      <td>19.300000</td>\n      <td>0.363000</td>\n      <td>38.500000</td>\n      <td>...</td>\n      <td>1.000000</td>\n      <td>0.441824</td>\n      <td>97.811520</td>\n      <td>0.717025</td>\n      <td>112.367747</td>\n      <td>110.762835</td>\n      <td>4.979590</td>\n      <td>1.327751</td>\n      <td>41.142799</td>\n      <td>0.335698</td>\n    </tr>\n    <tr>\n      <th>max</th>\n      <td>30.000000</td>\n      <td>82.000000</td>\n      <td>244.900000</td>\n      <td>48.500000</td>\n      <td>108.100000</td>\n      <td>0.545000</td>\n      <td>16.100000</td>\n      <td>45.400000</td>\n      <td>0.428000</td>\n      <td>48.200000</td>\n      <td>...</td>\n      <td>1.000000</td>\n      <td>0.523160</td>\n      <td>113.226240</td>\n      <td>0.764695</td>\n      <td>124.756666</td>\n      <td>118.600223</td>\n      <td>22.598630</td>\n      <td>1.702078</td>\n      <td>48.502677</td>\n      <td>0.432215</td>\n    </tr>\n  </tbody>\n</table>\n<p>8 rows × 35 columns</p>\n</div>"
          },
          "metadata": {},
          "execution_count": 24
        }
      ]
    },
    {
      "cell_type": "code",
      "metadata": {
        "id": "hXNLuMzENRhE",
        "outputId": "fcc57a7f-9f87-4654-f8ef-394f883fd26b",
        "colab": {
          "base_uri": "https://localhost:8080/"
        }
      },
      "source": [
        "# total distribution of stats throughout 1980-2019\n",
        "all_float_vars = main_df.select_dtypes(include=[\"float64\"]).columns\n",
        "# single_histogram(main_df, all_float_vars, 7, 5)"
      ],
      "execution_count": 25,
      "outputs": []
    },
    {
      "cell_type": "markdown",
      "metadata": {
        "id": "wTvHmg4wha1B"
      },
      "source": [
        "Majority of the data is normally distributed, leaving only some skewed. A great example would be the 3 point shot. \n",
        "\n",
        "From the beginning of the NBA, every field goal counted for 2 points. However in 1979, the NBA introduced the 3 point shot. \n",
        "\n",
        "To demonstrate the differences in stat distribution between the 2 point field goals, and 3 point field goals, let's look at the introduction of the 3 point line in 1979. Before 1979, the NBA would count all field goals for 2 points. \n",
        "\n",
        "In the 80's and 90's the NBA has seen the greats play such as Michael Jordan, Magic Johnson, Larry Bird, and many others. During this time, most the shots taken, were mid range, or under the net (dunks/layups), all counting for 2 points. Rarely did teams shoot the 3 point shot.\n",
        "This observation is supported by the histograms, where the 2PA, 2P are bimodal with the left maxima being larger than the right, and the 3PA, 3P are heavily right skewed.\n",
        "\n",
        "As of recently, players like Stephen Curry, Damian Lillard, and James Harden have added the 3 point shot to their arsenal and shoot the 3 pointer often with relatively high percentages. The increased frequency of 3 pointers, means less 2 pointers are attempted. This further explains the bimodal distributions seen in 2PA, and 2P. The bimodal distribution can be seen as the shift from shooting less 2 pointers and more 3 pointers. "
      ]
    },
    {
      "cell_type": "code",
      "metadata": {
        "id": "swjrLjUSWdRu",
        "outputId": "892f979d-2df3-4e9f-91f3-6609af4f8588",
        "colab": {
          "base_uri": "https://localhost:8080/"
        }
      },
      "source": [
        "all_float_vars = main_df.select_dtypes(include=[\"float64\"]).columns\n",
        "# compare_decades_boxplots(decade_dict, all_float_vars, 7,5)"
      ],
      "execution_count": 26,
      "outputs": []
    },
    {
      "cell_type": "markdown",
      "metadata": {
        "id": "Gr8P-_XIhi0D"
      },
      "source": [
        "Taking both these observations, lets compare the 3 point related stats with the 2 point related stats between the 1980's and 2010's.\n",
        "\n",
        "For 3 point stats, the teams in the 1980's usually shot 2-4 3 pointers a game (3PA) and would make 1-2 of those shots (3P) - having a percentage in the range of 22-31% (3P%). \n",
        "\n",
        "Whereas, teams in the 2010's shoot 19-26 3 pointers a game (6-8x more in 2010's), and would make 7-10 of those shots - having a percentage of in the range of 33-36%.\n",
        "\n",
        "For 2 point stats, the teams in the 1980's usually shot 82-88 2 pointers a game (2PA) and would make 40-43 of those shots - having a percentage around 48-50%.\n",
        "\n",
        "For teams in the 2010's, 58-62 2 pointers were shot, and 28-31 shots went in - having a percentage of around 48-51%, similar to the 1980s. "
      ]
    },
    {
      "cell_type": "code",
      "metadata": {
        "id": "GZBdqBQa1Ojs",
        "outputId": "8410fe5b-0539-48c9-aeb5-5f77f67961dc",
        "colab": {
          "base_uri": "https://localhost:8080/"
        }
      },
      "source": [
        "# single_heatmap(main_df)"
      ],
      "execution_count": 27,
      "outputs": []
    },
    {
      "cell_type": "code",
      "metadata": {
        "id": "ALLyXjcBmqyG",
        "outputId": "80d65197-7c3c-4469-8d75-cfcd2a56280e",
        "colab": {
          "base_uri": "https://localhost:8080/"
        }
      },
      "source": [
        "# counted = count_decade_playoffs(main_df)\n",
        "# counted"
      ],
      "execution_count": 29,
      "outputs": []
    },
    {
      "cell_type": "code",
      "metadata": {
        "id": "QJ_BpkQYIKQN",
        "outputId": "0a873e44-625b-4714-a192-11801068eb5f",
        "colab": {
          "base_uri": "https://localhost:8080/"
        }
      },
      "source": [
        "# number of times a team appeared in the playoffs\n",
        "# compare_playoff_count(main_df)"
      ],
      "execution_count": 30,
      "outputs": []
    },
    {
      "cell_type": "markdown",
      "metadata": {
        "id": "RUmT-ro0IOaq"
      },
      "source": [
        "## Comparing Playoff and Non-Playoff Team Stats"
      ]
    },
    {
      "cell_type": "code",
      "metadata": {
        "id": "5X4Fly9mImcB",
        "outputId": "b6acb26f-4ed0-4f74-ab7f-1147a5c13397",
        "colab": {
          "base_uri": "https://localhost:8080/"
        }
      },
      "source": [
        "# summary stats for Non-Playoff teams\n",
        "main_df[main_df[\"Playoff\"] == 0].describe()"
      ],
      "execution_count": 31,
      "outputs": [
        {
          "output_type": "execute_result",
          "data": {
            "text/plain": [
              "               Rk           G          MP          FG         FGA         FG%  \\\n",
              "count  480.000000  480.000000  480.000000  480.000000  480.000000  480.000000   \n",
              "mean    17.827083   80.666667  241.691250   38.050625   83.966458    0.452744   \n",
              "std      7.659323    5.787227    0.859217    3.069562    4.479214    0.018880   \n",
              "min      1.000000   50.000000  240.000000   30.800000   71.200000    0.401000   \n",
              "25%     12.000000   82.000000  241.200000   35.800000   80.700000    0.440750   \n",
              "50%     19.000000   82.000000  241.500000   37.600000   83.650000    0.450500   \n",
              "75%     24.000000   82.000000  242.100000   40.100000   87.000000    0.465000   \n",
              "max     30.000000   82.000000  244.300000   47.700000  108.100000    0.506000   \n",
              "\n",
              "               3P         3PA         3P%          2P  ...  Playoff  \\\n",
              "count  480.000000  480.000000  480.000000  480.000000  ...    480.0   \n",
              "mean     4.844792   14.071667    0.328088   33.208750  ...      0.0   \n",
              "std      2.854819    7.823797    0.044257    4.891111  ...      0.0   \n",
              "min      0.100000    1.000000    0.122000   25.300000  ...      0.0   \n",
              "25%      2.800000    8.450000    0.317750   29.700000  ...      0.0   \n",
              "50%      4.900000   14.350000    0.341000   31.400000  ...      0.0   \n",
              "75%      6.600000   18.950000    0.354250   36.900000  ...      0.0   \n",
              "max     13.000000   37.000000    0.407000   46.700000  ...      0.0   \n",
              "\n",
              "              PPM        POSS        DRBP          DE          OE          ED  \\\n",
              "count  480.000000  480.000000  480.000000  480.000000  480.000000  480.000000   \n",
              "mean     0.413072   94.463280    0.704173  108.154676  105.642269   -2.512407   \n",
              "std      0.027061    4.652048    0.014535    5.189513    3.387005    6.900874   \n",
              "min      0.339130   82.275840    0.666997   90.019766   92.671837  -22.891332   \n",
              "25%      0.393629   90.991680    0.695541  104.258723  103.668539   -7.350437   \n",
              "50%      0.410383   93.680640    0.703528  108.801559  105.802659   -2.822134   \n",
              "75%      0.431409   97.762560    0.712443  112.016834  107.727561    2.422652   \n",
              "max      0.500411  113.226240    0.745420  123.883264  115.811314   18.022502   \n",
              "\n",
              "               TR        EFG%         FTR  \n",
              "count  480.000000  480.000000  480.000000  \n",
              "mean     1.291353   38.079724    0.300918  \n",
              "std      0.124835    3.062499    0.036856  \n",
              "min      0.970206   30.822816    0.193961  \n",
              "25%      1.205510   35.853008    0.275736  \n",
              "50%      1.283833   37.619555    0.300000  \n",
              "75%      1.363570   40.102779    0.325888  \n",
              "max      1.702078   47.705308    0.416116  \n",
              "\n",
              "[8 rows x 35 columns]"
            ],
            "text/html": "<div>\n<style scoped>\n    .dataframe tbody tr th:only-of-type {\n        vertical-align: middle;\n    }\n\n    .dataframe tbody tr th {\n        vertical-align: top;\n    }\n\n    .dataframe thead th {\n        text-align: right;\n    }\n</style>\n<table border=\"1\" class=\"dataframe\">\n  <thead>\n    <tr style=\"text-align: right;\">\n      <th></th>\n      <th>Rk</th>\n      <th>G</th>\n      <th>MP</th>\n      <th>FG</th>\n      <th>FGA</th>\n      <th>FG%</th>\n      <th>3P</th>\n      <th>3PA</th>\n      <th>3P%</th>\n      <th>2P</th>\n      <th>...</th>\n      <th>Playoff</th>\n      <th>PPM</th>\n      <th>POSS</th>\n      <th>DRBP</th>\n      <th>DE</th>\n      <th>OE</th>\n      <th>ED</th>\n      <th>TR</th>\n      <th>EFG%</th>\n      <th>FTR</th>\n    </tr>\n  </thead>\n  <tbody>\n    <tr>\n      <th>count</th>\n      <td>480.000000</td>\n      <td>480.000000</td>\n      <td>480.000000</td>\n      <td>480.000000</td>\n      <td>480.000000</td>\n      <td>480.000000</td>\n      <td>480.000000</td>\n      <td>480.000000</td>\n      <td>480.000000</td>\n      <td>480.000000</td>\n      <td>...</td>\n      <td>480.0</td>\n      <td>480.000000</td>\n      <td>480.000000</td>\n      <td>480.000000</td>\n      <td>480.000000</td>\n      <td>480.000000</td>\n      <td>480.000000</td>\n      <td>480.000000</td>\n      <td>480.000000</td>\n      <td>480.000000</td>\n    </tr>\n    <tr>\n      <th>mean</th>\n      <td>17.827083</td>\n      <td>80.666667</td>\n      <td>241.691250</td>\n      <td>38.050625</td>\n      <td>83.966458</td>\n      <td>0.452744</td>\n      <td>4.844792</td>\n      <td>14.071667</td>\n      <td>0.328088</td>\n      <td>33.208750</td>\n      <td>...</td>\n      <td>0.0</td>\n      <td>0.413072</td>\n      <td>94.463280</td>\n      <td>0.704173</td>\n      <td>108.154676</td>\n      <td>105.642269</td>\n      <td>-2.512407</td>\n      <td>1.291353</td>\n      <td>38.079724</td>\n      <td>0.300918</td>\n    </tr>\n    <tr>\n      <th>std</th>\n      <td>7.659323</td>\n      <td>5.787227</td>\n      <td>0.859217</td>\n      <td>3.069562</td>\n      <td>4.479214</td>\n      <td>0.018880</td>\n      <td>2.854819</td>\n      <td>7.823797</td>\n      <td>0.044257</td>\n      <td>4.891111</td>\n      <td>...</td>\n      <td>0.0</td>\n      <td>0.027061</td>\n      <td>4.652048</td>\n      <td>0.014535</td>\n      <td>5.189513</td>\n      <td>3.387005</td>\n      <td>6.900874</td>\n      <td>0.124835</td>\n      <td>3.062499</td>\n      <td>0.036856</td>\n    </tr>\n    <tr>\n      <th>min</th>\n      <td>1.000000</td>\n      <td>50.000000</td>\n      <td>240.000000</td>\n      <td>30.800000</td>\n      <td>71.200000</td>\n      <td>0.401000</td>\n      <td>0.100000</td>\n      <td>1.000000</td>\n      <td>0.122000</td>\n      <td>25.300000</td>\n      <td>...</td>\n      <td>0.0</td>\n      <td>0.339130</td>\n      <td>82.275840</td>\n      <td>0.666997</td>\n      <td>90.019766</td>\n      <td>92.671837</td>\n      <td>-22.891332</td>\n      <td>0.970206</td>\n      <td>30.822816</td>\n      <td>0.193961</td>\n    </tr>\n    <tr>\n      <th>25%</th>\n      <td>12.000000</td>\n      <td>82.000000</td>\n      <td>241.200000</td>\n      <td>35.800000</td>\n      <td>80.700000</td>\n      <td>0.440750</td>\n      <td>2.800000</td>\n      <td>8.450000</td>\n      <td>0.317750</td>\n      <td>29.700000</td>\n      <td>...</td>\n      <td>0.0</td>\n      <td>0.393629</td>\n      <td>90.991680</td>\n      <td>0.695541</td>\n      <td>104.258723</td>\n      <td>103.668539</td>\n      <td>-7.350437</td>\n      <td>1.205510</td>\n      <td>35.853008</td>\n      <td>0.275736</td>\n    </tr>\n    <tr>\n      <th>50%</th>\n      <td>19.000000</td>\n      <td>82.000000</td>\n      <td>241.500000</td>\n      <td>37.600000</td>\n      <td>83.650000</td>\n      <td>0.450500</td>\n      <td>4.900000</td>\n      <td>14.350000</td>\n      <td>0.341000</td>\n      <td>31.400000</td>\n      <td>...</td>\n      <td>0.0</td>\n      <td>0.410383</td>\n      <td>93.680640</td>\n      <td>0.703528</td>\n      <td>108.801559</td>\n      <td>105.802659</td>\n      <td>-2.822134</td>\n      <td>1.283833</td>\n      <td>37.619555</td>\n      <td>0.300000</td>\n    </tr>\n    <tr>\n      <th>75%</th>\n      <td>24.000000</td>\n      <td>82.000000</td>\n      <td>242.100000</td>\n      <td>40.100000</td>\n      <td>87.000000</td>\n      <td>0.465000</td>\n      <td>6.600000</td>\n      <td>18.950000</td>\n      <td>0.354250</td>\n      <td>36.900000</td>\n      <td>...</td>\n      <td>0.0</td>\n      <td>0.431409</td>\n      <td>97.762560</td>\n      <td>0.712443</td>\n      <td>112.016834</td>\n      <td>107.727561</td>\n      <td>2.422652</td>\n      <td>1.363570</td>\n      <td>40.102779</td>\n      <td>0.325888</td>\n    </tr>\n    <tr>\n      <th>max</th>\n      <td>30.000000</td>\n      <td>82.000000</td>\n      <td>244.300000</td>\n      <td>47.700000</td>\n      <td>108.100000</td>\n      <td>0.506000</td>\n      <td>13.000000</td>\n      <td>37.000000</td>\n      <td>0.407000</td>\n      <td>46.700000</td>\n      <td>...</td>\n      <td>0.0</td>\n      <td>0.500411</td>\n      <td>113.226240</td>\n      <td>0.745420</td>\n      <td>123.883264</td>\n      <td>115.811314</td>\n      <td>18.022502</td>\n      <td>1.702078</td>\n      <td>47.705308</td>\n      <td>0.416116</td>\n    </tr>\n  </tbody>\n</table>\n<p>8 rows × 35 columns</p>\n</div>"
          },
          "metadata": {},
          "execution_count": 31
        }
      ]
    },
    {
      "cell_type": "code",
      "metadata": {
        "id": "SaENxYBLIu0g",
        "outputId": "198c955f-2771-4772-f1dd-d5340f921ca6",
        "colab": {
          "base_uri": "https://localhost:8080/"
        }
      },
      "source": [
        "# summary stats for Playoff teams\n",
        "main_df[main_df[\"Playoff\"] == 1].describe()"
      ],
      "execution_count": 32,
      "outputs": [
        {
          "output_type": "execute_result",
          "data": {
            "text/plain": [
              "               Rk           G          MP          FG         FGA         FG%  \\\n",
              "count  624.000000  624.000000  624.000000  624.000000  624.000000  624.000000   \n",
              "mean    11.838141   80.766026  241.711378   39.293269   83.674199    0.469115   \n",
              "std      7.624478    5.599220    0.826400    3.373571    4.769852    0.020532   \n",
              "min      1.000000   50.000000  240.000000   30.800000   71.300000    0.409000   \n",
              "25%      5.000000   82.000000  241.200000   36.600000   80.200000    0.454000   \n",
              "50%     11.000000   82.000000  241.500000   38.750000   83.300000    0.468000   \n",
              "75%     18.000000   82.000000  242.100000   41.900000   87.100000    0.484000   \n",
              "max     30.000000   82.000000  244.900000   48.500000   99.300000    0.545000   \n",
              "\n",
              "               3P         3PA         3P%          2P  ...  Playoff  \\\n",
              "count  624.000000  624.000000  624.000000  624.000000  ...    624.0   \n",
              "mean     5.015545   14.095833    0.335497   34.280609  ...      1.0   \n",
              "std      3.217483    8.524297    0.049811    5.646112  ...      0.0   \n",
              "min      0.100000    0.900000    0.104000   23.100000  ...      1.0   \n",
              "25%      2.200000    6.800000    0.322750   30.000000  ...      1.0   \n",
              "50%      5.000000   14.000000    0.351000   32.000000  ...      1.0   \n",
              "75%      7.100000   19.425000    0.367000   39.600000  ...      1.0   \n",
              "max     16.100000   45.400000    0.428000   48.200000  ...      1.0   \n",
              "\n",
              "              PPM        POSS        DRBP          DE          OE          ED  \\\n",
              "count  624.000000  624.000000  624.000000  624.000000  624.000000  624.000000   \n",
              "mean     0.428362   94.253883    0.711100  108.438160  109.804602    1.366442   \n",
              "std      0.029069    5.001212    0.013125    5.642014    3.394133    7.274811   \n",
              "min      0.357025   81.699840    0.668771   92.023396  100.071162  -18.269147   \n",
              "25%      0.405618   90.231360    0.702819  104.057430  107.382212   -4.114171   \n",
              "50%      0.426824   93.398400    0.709758  109.130346  109.753509    1.293183   \n",
              "75%      0.449793   97.951680    0.719103  112.960729  112.208974    6.665047   \n",
              "max      0.523160  110.760960    0.764695  124.756666  118.600223   22.598630   \n",
              "\n",
              "               TR        EFG%         FTR  \n",
              "count  624.000000  624.000000  624.000000  \n",
              "mean     1.202824   39.323688    0.314683  \n",
              "std      0.123289    3.363444    0.038796  \n",
              "min      0.927094   30.825931    0.205950  \n",
              "25%      1.112645   36.642496    0.290524  \n",
              "50%      1.191698   38.799781    0.315086  \n",
              "75%      1.286820   41.931944    0.342890  \n",
              "max      1.661323   48.502677    0.432215  \n",
              "\n",
              "[8 rows x 35 columns]"
            ],
            "text/html": "<div>\n<style scoped>\n    .dataframe tbody tr th:only-of-type {\n        vertical-align: middle;\n    }\n\n    .dataframe tbody tr th {\n        vertical-align: top;\n    }\n\n    .dataframe thead th {\n        text-align: right;\n    }\n</style>\n<table border=\"1\" class=\"dataframe\">\n  <thead>\n    <tr style=\"text-align: right;\">\n      <th></th>\n      <th>Rk</th>\n      <th>G</th>\n      <th>MP</th>\n      <th>FG</th>\n      <th>FGA</th>\n      <th>FG%</th>\n      <th>3P</th>\n      <th>3PA</th>\n      <th>3P%</th>\n      <th>2P</th>\n      <th>...</th>\n      <th>Playoff</th>\n      <th>PPM</th>\n      <th>POSS</th>\n      <th>DRBP</th>\n      <th>DE</th>\n      <th>OE</th>\n      <th>ED</th>\n      <th>TR</th>\n      <th>EFG%</th>\n      <th>FTR</th>\n    </tr>\n  </thead>\n  <tbody>\n    <tr>\n      <th>count</th>\n      <td>624.000000</td>\n      <td>624.000000</td>\n      <td>624.000000</td>\n      <td>624.000000</td>\n      <td>624.000000</td>\n      <td>624.000000</td>\n      <td>624.000000</td>\n      <td>624.000000</td>\n      <td>624.000000</td>\n      <td>624.000000</td>\n      <td>...</td>\n      <td>624.0</td>\n      <td>624.000000</td>\n      <td>624.000000</td>\n      <td>624.000000</td>\n      <td>624.000000</td>\n      <td>624.000000</td>\n      <td>624.000000</td>\n      <td>624.000000</td>\n      <td>624.000000</td>\n      <td>624.000000</td>\n    </tr>\n    <tr>\n      <th>mean</th>\n      <td>11.838141</td>\n      <td>80.766026</td>\n      <td>241.711378</td>\n      <td>39.293269</td>\n      <td>83.674199</td>\n      <td>0.469115</td>\n      <td>5.015545</td>\n      <td>14.095833</td>\n      <td>0.335497</td>\n      <td>34.280609</td>\n      <td>...</td>\n      <td>1.0</td>\n      <td>0.428362</td>\n      <td>94.253883</td>\n      <td>0.711100</td>\n      <td>108.438160</td>\n      <td>109.804602</td>\n      <td>1.366442</td>\n      <td>1.202824</td>\n      <td>39.323688</td>\n      <td>0.314683</td>\n    </tr>\n    <tr>\n      <th>std</th>\n      <td>7.624478</td>\n      <td>5.599220</td>\n      <td>0.826400</td>\n      <td>3.373571</td>\n      <td>4.769852</td>\n      <td>0.020532</td>\n      <td>3.217483</td>\n      <td>8.524297</td>\n      <td>0.049811</td>\n      <td>5.646112</td>\n      <td>...</td>\n      <td>0.0</td>\n      <td>0.029069</td>\n      <td>5.001212</td>\n      <td>0.013125</td>\n      <td>5.642014</td>\n      <td>3.394133</td>\n      <td>7.274811</td>\n      <td>0.123289</td>\n      <td>3.363444</td>\n      <td>0.038796</td>\n    </tr>\n    <tr>\n      <th>min</th>\n      <td>1.000000</td>\n      <td>50.000000</td>\n      <td>240.000000</td>\n      <td>30.800000</td>\n      <td>71.300000</td>\n      <td>0.409000</td>\n      <td>0.100000</td>\n      <td>0.900000</td>\n      <td>0.104000</td>\n      <td>23.100000</td>\n      <td>...</td>\n      <td>1.0</td>\n      <td>0.357025</td>\n      <td>81.699840</td>\n      <td>0.668771</td>\n      <td>92.023396</td>\n      <td>100.071162</td>\n      <td>-18.269147</td>\n      <td>0.927094</td>\n      <td>30.825931</td>\n      <td>0.205950</td>\n    </tr>\n    <tr>\n      <th>25%</th>\n      <td>5.000000</td>\n      <td>82.000000</td>\n      <td>241.200000</td>\n      <td>36.600000</td>\n      <td>80.200000</td>\n      <td>0.454000</td>\n      <td>2.200000</td>\n      <td>6.800000</td>\n      <td>0.322750</td>\n      <td>30.000000</td>\n      <td>...</td>\n      <td>1.0</td>\n      <td>0.405618</td>\n      <td>90.231360</td>\n      <td>0.702819</td>\n      <td>104.057430</td>\n      <td>107.382212</td>\n      <td>-4.114171</td>\n      <td>1.112645</td>\n      <td>36.642496</td>\n      <td>0.290524</td>\n    </tr>\n    <tr>\n      <th>50%</th>\n      <td>11.000000</td>\n      <td>82.000000</td>\n      <td>241.500000</td>\n      <td>38.750000</td>\n      <td>83.300000</td>\n      <td>0.468000</td>\n      <td>5.000000</td>\n      <td>14.000000</td>\n      <td>0.351000</td>\n      <td>32.000000</td>\n      <td>...</td>\n      <td>1.0</td>\n      <td>0.426824</td>\n      <td>93.398400</td>\n      <td>0.709758</td>\n      <td>109.130346</td>\n      <td>109.753509</td>\n      <td>1.293183</td>\n      <td>1.191698</td>\n      <td>38.799781</td>\n      <td>0.315086</td>\n    </tr>\n    <tr>\n      <th>75%</th>\n      <td>18.000000</td>\n      <td>82.000000</td>\n      <td>242.100000</td>\n      <td>41.900000</td>\n      <td>87.100000</td>\n      <td>0.484000</td>\n      <td>7.100000</td>\n      <td>19.425000</td>\n      <td>0.367000</td>\n      <td>39.600000</td>\n      <td>...</td>\n      <td>1.0</td>\n      <td>0.449793</td>\n      <td>97.951680</td>\n      <td>0.719103</td>\n      <td>112.960729</td>\n      <td>112.208974</td>\n      <td>6.665047</td>\n      <td>1.286820</td>\n      <td>41.931944</td>\n      <td>0.342890</td>\n    </tr>\n    <tr>\n      <th>max</th>\n      <td>30.000000</td>\n      <td>82.000000</td>\n      <td>244.900000</td>\n      <td>48.500000</td>\n      <td>99.300000</td>\n      <td>0.545000</td>\n      <td>16.100000</td>\n      <td>45.400000</td>\n      <td>0.428000</td>\n      <td>48.200000</td>\n      <td>...</td>\n      <td>1.0</td>\n      <td>0.523160</td>\n      <td>110.760960</td>\n      <td>0.764695</td>\n      <td>124.756666</td>\n      <td>118.600223</td>\n      <td>22.598630</td>\n      <td>1.661323</td>\n      <td>48.502677</td>\n      <td>0.432215</td>\n    </tr>\n  </tbody>\n</table>\n<p>8 rows × 35 columns</p>\n</div>"
          },
          "metadata": {},
          "execution_count": 32
        }
      ]
    },
    {
      "cell_type": "code",
      "metadata": {
        "id": "sU7aFvPRIK1o",
        "outputId": "189f94f7-579d-4e6e-8e01-c184d7a9f7fa",
        "colab": {
          "base_uri": "https://localhost:8080/"
        }
      },
      "source": [
        "# compare stats of playoff vs non-playoff teams of all time\n",
        "# all_float_vars = main_df.select_dtypes(include=[\"float64\"]).columns\n",
        "# compare_two_groups(main_df[main_df[\"Playoff\"] == 1], main_df[main_df[\"Playoff\"] == 0], all_float_vars, 8, 4)"
      ],
      "execution_count": 33,
      "outputs": []
    },
    {
      "cell_type": "markdown",
      "metadata": {
        "id": "AlotjgqxfshJ"
      },
      "source": [
        "### Comparing Playoff and Non-Playoff Teams"
      ]
    },
    {
      "cell_type": "code",
      "metadata": {
        "id": "oxbh-8RiIjWW",
        "outputId": "59300a27-877b-47b4-8ef5-fe69b044ab45",
        "colab": {
          "base_uri": "https://localhost:8080/"
        }
      },
      "source": [
        "# all_float_vars = main_df.select_dtypes(include=[\"float64\"]).columns\n",
        "# time_series_stat(main_df, all_float_vars, 8, 4)"
      ],
      "execution_count": 34,
      "outputs": []
    },
    {
      "cell_type": "markdown",
      "metadata": {
        "id": "bIQz4C5agXJW"
      },
      "source": [
        "#### Offensive Differences"
      ]
    },
    {
      "cell_type": "markdown",
      "metadata": {
        "id": "i6unSZxRf1E3"
      },
      "source": [
        "Let's first take a look at offensive efficiency (OE) which measures the points scored per 100 possessions. Over time, playoff teams consistently have a greater OE than non playoff teams, even when OE was at its lowest during the 2000-2001 season. \n",
        "\n",
        "Let's understand the possession (POSS) part of OE because the lower it is, the greater OE a team has. To minimize POSS, the team has to have more field goals attempts (FGA), more free throw attempts (FTA), and less offensive rebounds (OR). \n",
        "\n",
        "Going back to OE, playoff teams:\n",
        "\n",
        "1. score more points\n",
        "2. attempt more field goals\n",
        "3. attempt more free throws\n",
        "4. have less offensive rebounds\n",
        "\n",
        "An interesting stat is efficiency difference (ED) which subtracts, OE, from defensive efficiency (DE). This means the higher ED, the better a team is on offense than defense. Playoff teams have consistently had higher EDs, and if we take a look at the OE, and DE charts, teams had similar DE, but playoff teams had higher OE - this means that OE is a better indicator for playoffs than DE. \n",
        "\n",
        "Shot percentages give a good indication of a teams shot selection, and ability to make those shots. Playoff teams have consistently had higher FG%, and 2P%, even when both groups shoot the same number of shots, on average. \n",
        "\n"
      ]
    },
    {
      "cell_type": "markdown",
      "metadata": {
        "id": "jNDj5Ielf8Ha"
      },
      "source": [
        "#### Defensive Differences"
      ]
    },
    {
      "cell_type": "markdown",
      "metadata": {
        "id": "sbz1kxz6gamB"
      },
      "source": [
        "Defensive rebounds provides quite a bit of insight to a teams defense. Having more defensive rebounds does not only reflect on the teams ability to rebound, but also the teams ability to contest the shot in order to get the rebound in the first place. \n",
        "\n",
        "The \"defensive rebounding percentage\"(DRBP) stat measures a teams ability to grab defensive rebounds, and playoff teams consistently have higher percentages. This difference results in playoff teams averaging 1 more defensive rebound than non playoff teams. However, this difference is getting smaller.\n",
        "\n",
        " Although it is a small difference, the accumulation of differences in other stats can make a huge difference. Next let's take a look at steals (STL) and blocks (BLK).\n",
        "\n",
        "Surprisingly, there are small differences in STLs, and BLKs, even with some years where non playoff teams averaged more STLs and BLKs.  Even if the differences are as small as 1, these stats can matter most during the final seconds where the next basket can be the winning one. \n",
        "\n",
        "Last let's look at turnovers because many inferences can be made, such as a teams offensive ability, and a teams play making. Playoff teams have consistently had lower turnovers (TO) and turnover rates (TR). \n",
        "Playoff teams consistently have lower TRs resulting in an differences as large as 3, and as small as 1. "
      ]
    },
    {
      "cell_type": "markdown",
      "metadata": {
        "id": "-lVg5T24gL89"
      },
      "source": [
        "### Summary"
      ]
    },
    {
      "cell_type": "markdown",
      "metadata": {
        "id": "n8F5OG39gTw8"
      },
      "source": [
        "Putting everything together, the accumulation of small differences result in indicators between playoff and non playoff teams. Let's recap on what makes a playoff team:\n",
        "\n",
        "- more points (PTS)\n",
        "- more field goal attempts (FGA)\n",
        "- more free throw attempts (FTA)\n",
        "- less offensive rebounds (ORB)\n",
        "- more defensive rebounds\n",
        "- more steals (STL)\n",
        "- more blocks (BLK)\n",
        "- less turnovers (TO, TR)"
      ]
    },
    {
      "cell_type": "markdown",
      "metadata": {
        "id": "tZXOtnbOdr-P"
      },
      "source": [
        "# Modeling"
      ]
    },
    {
      "cell_type": "markdown",
      "metadata": {
        "id": "Y1oTmRaZrhSr"
      },
      "source": [
        "Before modeling, the data set was broken up into a training set, and testing, where each model will 'learn' from the training set, and tested with the test set. To measure each models performance on the test set, precision, recall, F1 score, and accuracy will be measured. "
      ]
    },
    {
      "cell_type": "markdown",
      "metadata": {
        "id": "Lb_vv7t2Xse6"
      },
      "source": [
        "## Baseline Models"
      ]
    },
    {
      "cell_type": "code",
      "metadata": {
        "id": "_A0_CXWw8Egz"
      },
      "source": [
        "modelling_data = main_df.drop([\"Year\",\"Team\", \"G\",\"Rk\"], axis=1)\n",
        "predictors_data = modelling_data.drop([\"Playoff\"], axis=1)\n",
        "labels = modelling_data.pop(\"Playoff\")"
      ],
      "execution_count": 35,
      "outputs": []
    },
    {
      "cell_type": "markdown",
      "metadata": {
        "id": "TOtta-iAr-wR"
      },
      "source": [
        "To demonstrate optimization, a baseline of each model will be created using the default hyperparameters found in the scikit-learn documentation. Afterwards each model will be optimized based on precision. \n",
        "\n",
        "Logistic, Random Forests, and Support Vector Machines (SVMs) models were chosen because each have the ability to classify groups, and are simple to use and optimize thanks to scikit-learn. \n",
        "\n",
        "Each model will have their default hyperparameters, each will use the same training set, and will be will be using the same test set. Additionally, the default parameters can be found at the end of each model cell.   "
      ]
    },
    {
      "cell_type": "markdown",
      "metadata": {
        "id": "oC-OpKRQbtmy"
      },
      "source": [
        "###Logistic Regression"
      ]
    },
    {
      "cell_type": "code",
      "metadata": {
        "id": "zbB-6Rrreshi"
      },
      "source": [
        "from sklearn.model_selection import train_test_split\n",
        "\n",
        "# split training and testing sets\n",
        "X_train, X_test, y_train, y_test = train_test_split(predictors_data, labels, test_size=0.2)"
      ],
      "execution_count": 36,
      "outputs": []
    },
    {
      "cell_type": "code",
      "metadata": {
        "id": "oyFuiY2OXvx1",
        "outputId": "fb3a07e5-1746-4ad5-aaf4-3fd223735072",
        "colab": {
          "base_uri": "https://localhost:8080/",
          "height": 102
        },
        "tags": []
      },
      "source": [
        "from sklearn.linear_model import LogisticRegression\n",
        "from sklearn.preprocessing import StandardScaler\n",
        "from sklearn.pipeline import Pipeline\n",
        "\n",
        "# define logistic regression\n",
        "log_clf = LogisticRegression(random_state=42)\n",
        "\n",
        "# create pipeline - preprocess data\n",
        "baseline_log_clf = Pipeline(steps=[\n",
        "                       (\"scaler\", StandardScaler()), \n",
        "                       (\"logistic\", log_clf)\n",
        "                       ])\n",
        "# train model\n",
        "baseline_log_clf.fit(X_train, y_train)\n",
        "# test model\n",
        "baseline_log_clf_score = baseline_log_clf.score(X_test, y_test)\n",
        "# current parameters \n",
        "print(\"Current Hyperparameters:\",log_clf.get_params)"
      ],
      "execution_count": 37,
      "outputs": [
        {
          "output_type": "stream",
          "name": "stdout",
          "text": [
            "Current Hyperparameters: <bound method BaseEstimator.get_params of LogisticRegression(random_state=42)>\n"
          ]
        }
      ]
    },
    {
      "cell_type": "markdown",
      "metadata": {
        "id": "4c4D06WCb139"
      },
      "source": [
        "###Random Forests"
      ]
    },
    {
      "cell_type": "code",
      "metadata": {
        "id": "-23d8lOFb5Mo",
        "outputId": "02bef85a-8729-4a6e-ecbb-579a7ddcb7bc",
        "colab": {
          "base_uri": "https://localhost:8080/",
          "height": 153
        },
        "tags": []
      },
      "source": [
        "from sklearn.ensemble import RandomForestClassifier\n",
        "# define logistic regression\n",
        "rnd_clf = RandomForestClassifier(random_state=42)\n",
        "\n",
        "baseline_rnd_clf = rnd_clf.fit(X_train, y_train)\n",
        "baseline_rnd_clf_score = baseline_rnd_clf.score(X_test, y_test)\n",
        "print(\"Current Hyperparameters:\", rnd_clf.get_params)"
      ],
      "execution_count": 38,
      "outputs": [
        {
          "output_type": "stream",
          "name": "stdout",
          "text": [
            "Current Hyperparameters: <bound method BaseEstimator.get_params of RandomForestClassifier(random_state=42)>\n"
          ]
        }
      ]
    },
    {
      "cell_type": "markdown",
      "metadata": {
        "id": "-ytdkjPrdlNc"
      },
      "source": [
        "### Support Vector Machine (SVM)"
      ]
    },
    {
      "cell_type": "code",
      "metadata": {
        "id": "2K3G7LwadjzD",
        "outputId": "3a344ff3-b42e-486f-97f3-f821a41ad2dc",
        "colab": {
          "base_uri": "https://localhost:8080/",
          "height": 85
        },
        "tags": []
      },
      "source": [
        "from sklearn.svm import SVC\n",
        "# define SVM\n",
        "svm_clf = SVC(random_state=42, probability=True)\n",
        "\n",
        "\n",
        "\n",
        "baseline_svm_clf = Pipeline(steps=[\n",
        "                       (\"scaler\", StandardScaler()), \n",
        "                       (\"svm\", svm_clf)\n",
        "                       ])\n",
        "baseline_svm_clf.fit(X_train, y_train)\n",
        "baseline_svm_clf_score = baseline_svm_clf.score(X_test, y_test)\n",
        "print(\"Current Hyperparameters:\", svm_clf.get_params)"
      ],
      "execution_count": 39,
      "outputs": [
        {
          "output_type": "stream",
          "name": "stdout",
          "text": [
            "Current Hyperparameters: <bound method BaseEstimator.get_params of SVC(probability=True, random_state=42)>\n"
          ]
        }
      ]
    },
    {
      "cell_type": "markdown",
      "metadata": {
        "id": "BWCh01mO_I-G"
      },
      "source": [
        "###Baseline Performance Metrics"
      ]
    },
    {
      "cell_type": "code",
      "metadata": {
        "id": "UCn5E8qOfqa7",
        "outputId": "3bb6241b-e47a-4923-b468-8e02b17aba6e",
        "colab": {
          "base_uri": "https://localhost:8080/",
          "height": 142
        }
      },
      "source": [
        "from sklearn.metrics import precision_score\n",
        "from sklearn.metrics import recall_score\n",
        "from sklearn.metrics import f1_score\n",
        "from sklearn.metrics import accuracy_score\n",
        "\n",
        "baseline_metric_data = {\n",
        "\t  \t\t\t\t\t\"Model\": [],\n",
        "                        \"Precision\": [],\n",
        "\t\t\t\t\t\t\"Recall\": [],\n",
        "\t\t\t\t\t\t\"F1 Score\": [],\n",
        "\t\t\t\t\t\t\"Accuracy\": [],\n",
        "\t\t\t\t\t\t        \t\t}\n",
        "for clf in (baseline_log_clf, baseline_rnd_clf, baseline_svm_clf):\n",
        "\tclf.fit(X_train, y_train)\n",
        "\ty_pred = clf.predict(X_test)\n",
        "\ttry: \n",
        "\t\tif (clf[1] and clf.__class__.__name__ == \"Pipeline\"):\n",
        "\t\t\tbaseline_metric_data[\"Model\"].append(clf[1].__class__.__name__)\n",
        "\t\t\tbaseline_metric_data[\"Precision\"].append(precision_score(y_test, y_pred))\n",
        "\t\t\tbaseline_metric_data[\"Recall\"].append(recall_score(y_test, y_pred))\n",
        "\t\t\tbaseline_metric_data[\"F1 Score\"].append(f1_score(y_test, y_pred))\n",
        "\t\t\tbaseline_metric_data[\"Accuracy\"].append(accuracy_score(y_test, y_pred))\n",
        "\t\telse: \n",
        "\t\t\tbaseline_metric_data[\"Model\"].append(clf[0][1])\n",
        "\t\t\tbaseline_metric_data[\"Precision\"].append(precision_score(y_test, y_pred))\n",
        "\t\t\tbaseline_metric_data[\"Recall\"].append(recall_score(y_test, y_pred))\n",
        "\t\t\tbaseline_metric_data[\"F1 Score\"].append(f1_score(y_test, y_pred))\n",
        "\t\t\tbaseline_metric_data[\"Accuracy\"].append(accuracy_score(y_test, y_pred))\n",
        "\texcept:\n",
        "\t\t\tbaseline_metric_data[\"Model\"].append(clf.__class__.__name__)\n",
        "\t\t\tbaseline_metric_data[\"Precision\"].append(precision_score(y_test, y_pred))\n",
        "\t\t\tbaseline_metric_data[\"Recall\"].append(recall_score(y_test, y_pred))\n",
        "\t\t\tbaseline_metric_data[\"F1 Score\"].append(f1_score(y_test, y_pred))\n",
        "\t\t\tbaseline_metric_data[\"Accuracy\"].append(accuracy_score(y_test, y_pred))\n",
        "\n",
        "baseline_metric_table = pd.DataFrame(data=baseline_metric_data)\n",
        "baseline_metric_table"
      ],
      "execution_count": 40,
      "outputs": [
        {
          "output_type": "execute_result",
          "data": {
            "text/plain": [
              "                    Model  Precision    Recall  F1 Score  Accuracy\n",
              "0      LogisticRegression   0.828125  0.905983  0.865306  0.850679\n",
              "1  RandomForestClassifier   0.750000  0.846154  0.795181  0.769231\n",
              "2                     SVC   0.830645  0.880342  0.854772  0.841629"
            ],
            "text/html": "<div>\n<style scoped>\n    .dataframe tbody tr th:only-of-type {\n        vertical-align: middle;\n    }\n\n    .dataframe tbody tr th {\n        vertical-align: top;\n    }\n\n    .dataframe thead th {\n        text-align: right;\n    }\n</style>\n<table border=\"1\" class=\"dataframe\">\n  <thead>\n    <tr style=\"text-align: right;\">\n      <th></th>\n      <th>Model</th>\n      <th>Precision</th>\n      <th>Recall</th>\n      <th>F1 Score</th>\n      <th>Accuracy</th>\n    </tr>\n  </thead>\n  <tbody>\n    <tr>\n      <th>0</th>\n      <td>LogisticRegression</td>\n      <td>0.828125</td>\n      <td>0.905983</td>\n      <td>0.865306</td>\n      <td>0.850679</td>\n    </tr>\n    <tr>\n      <th>1</th>\n      <td>RandomForestClassifier</td>\n      <td>0.750000</td>\n      <td>0.846154</td>\n      <td>0.795181</td>\n      <td>0.769231</td>\n    </tr>\n    <tr>\n      <th>2</th>\n      <td>SVC</td>\n      <td>0.830645</td>\n      <td>0.880342</td>\n      <td>0.854772</td>\n      <td>0.841629</td>\n    </tr>\n  </tbody>\n</table>\n</div>"
          },
          "metadata": {},
          "execution_count": 40
        }
      ]
    },
    {
      "cell_type": "markdown",
      "metadata": {
        "id": "6gAYjqB2sXna"
      },
      "source": [
        "The default parameters for each model do a good job on all metrics with scores all close to or above 80%. With some tweaking, these scores can be improved."
      ]
    },
    {
      "cell_type": "markdown",
      "metadata": {
        "id": "aEME0hLQMklZ"
      },
      "source": [
        "##Optimizing Models"
      ]
    },
    {
      "cell_type": "code",
      "metadata": {
        "id": "z-X6BV4RrDi6"
      },
      "source": [
        "from sklearn.metrics import make_scorer\n",
        "from sklearn.metrics import precision_score\n",
        "from sklearn.metrics import recall_score\n",
        "from sklearn.metrics import f1_score\n",
        "from sklearn.metrics import accuracy_score\n",
        "\n",
        "clf_scorer = {\n",
        "    'precision' : make_scorer(precision_score),\n",
        "    'recall' : make_scorer(recall_score),\n",
        "    'f1_score' : make_scorer(f1_score),\n",
        "    'accuracy' : make_scorer(accuracy_score)\n",
        "}\n",
        "\n",
        "refit = 'precision'"
      ],
      "execution_count": 41,
      "outputs": []
    },
    {
      "cell_type": "markdown",
      "metadata": {
        "id": "w2EhBa4bsc3K"
      },
      "source": [
        "To optimize each model, GridSearchCV found in scikit-learn creates multiple models by using the combinations formed from the hyperparameters passed in. The best model is selected based on the scorer specified. \n",
        "\n",
        "Precision was chosen to score the model because out of all the teams that were classified as a playoff team, I wanted to know how many of those were really playoff teams. False negatives are tolerable because there are years where the battle for 8th seed is close."
      ]
    },
    {
      "cell_type": "markdown",
      "metadata": {
        "id": "ynYhlPuzM8bC"
      },
      "source": [
        "### Logisitic Regression"
      ]
    },
    {
      "cell_type": "code",
      "metadata": {
        "id": "PmCU-l9YMqYD",
        "outputId": "5fd296a5-d98a-4362-f35c-c8585647a287",
        "colab": {
          "base_uri": "https://localhost:8080/",
          "height": 119
        },
        "tags": []
      },
      "source": [
        "from sklearn.model_selection import GridSearchCV\n",
        "from sklearn.preprocessing import StandardScaler\n",
        "from sklearn.pipeline import Pipeline\n",
        "\n",
        "\n",
        "op_log_clf_pipeline = Pipeline(\n",
        "    steps= [\n",
        "     ('standard_scaler', StandardScaler()),\n",
        "     ('op_logistic', log_clf) # log_clf = LogisticRegression(random_state=42), from base model\n",
        "    ]\n",
        ")\n",
        "\n",
        "param_grid = {\n",
        "    'op_logistic__penalty' : ['l1', 'l2', 'elasticnet'],\n",
        "    'op_logistic__C' : (list(np.logspace(-4, 4, 10)) + [1, 10, 100]),\n",
        "    'op_logistic__solver' : ['newton-cg', 'lbfgs', 'liblinear', 'sag', 'saga'],\n",
        "    'op_logistic__max_iter' : [100, 500, 1000, 2000]\n",
        "}\n",
        "\n",
        "op_log_clf_scorer = clf_scorer\n",
        "\n",
        "op_log_clf_gridCV = GridSearchCV(\n",
        "    estimator = op_log_clf_pipeline,\n",
        "    scoring = op_log_clf_scorer,\n",
        "    param_grid = param_grid,\n",
        "    verbose = True,\n",
        "    n_jobs = -1,\n",
        "    return_train_score = True,\n",
        "    refit = refit,\n",
        "    cv = 3\n",
        ")\n",
        "\n",
        "op_log_clf = op_log_clf_gridCV.fit(X_train, y_train)"
      ],
      "execution_count": 42,
      "outputs": [
        {
          "output_type": "stream",
          "name": "stdout",
          "text": [
            "Fitting 3 folds for each of 780 candidates, totalling 2340 fits\n",
            "[Parallel(n_jobs=-1)]: Using backend LokyBackend with 8 concurrent workers.\n",
            "[Parallel(n_jobs=-1)]: Done  34 tasks      | elapsed:    4.0s\n",
            "[Parallel(n_jobs=-1)]: Done 920 tasks      | elapsed:   12.5s\n",
            "[Parallel(n_jobs=-1)]: Done 1425 tasks      | elapsed:   40.1s\n",
            "[Parallel(n_jobs=-1)]: Done 1824 tasks      | elapsed:  1.4min\n",
            "[Parallel(n_jobs=-1)]: Done 2340 out of 2340 | elapsed:  2.1min finished\n"
          ]
        }
      ]
    },
    {
      "cell_type": "code",
      "metadata": {
        "id": "F2PsCqa1Fr8O",
        "outputId": "6f6585c0-18a1-4f86-c76a-2fdd79935d32",
        "colab": {
          "base_uri": "https://localhost:8080/",
          "height": 476
        },
        "tags": []
      },
      "source": [
        "new_log_clf = op_log_clf.best_estimator_\n",
        "\n",
        "print(\"OLD PARAMETERS: \\n\", baseline_log_clf.get_params , \"\\n\")\n",
        "\n",
        "print(\"NEW PARAMETERS: \\n\", new_log_clf.get_params)"
      ],
      "execution_count": 43,
      "outputs": [
        {
          "output_type": "stream",
          "name": "stdout",
          "text": [
            "OLD PARAMETERS: \n <bound method Pipeline.get_params of Pipeline(steps=[('scaler', StandardScaler()),\n                ('logistic', LogisticRegression(random_state=42))])> \n\nNEW PARAMETERS: \n <bound method Pipeline.get_params of Pipeline(steps=[('standard_scaler', StandardScaler()),\n                ('op_logistic',\n                 LogisticRegression(C=2.782559402207126, random_state=42,\n                                    solver='saga'))])>\n"
          ]
        }
      ]
    },
    {
      "cell_type": "markdown",
      "metadata": {
        "id": "mHUVvgZIQGik"
      },
      "source": [
        "### Random Forests"
      ]
    },
    {
      "cell_type": "code",
      "metadata": {
        "id": "uBIksksXQMjt",
        "outputId": "4c524d9d-8d5a-4738-d8a4-a8a83114b55b",
        "colab": {
          "base_uri": "https://localhost:8080/",
          "height": 119
        },
        "tags": []
      },
      "source": [
        "from sklearn.model_selection import GridSearchCV\n",
        "from sklearn.pipeline import Pipeline\n",
        "from sklearn.metrics import make_scorer\n",
        "\n",
        "# were imported in logistic regression optimization\n",
        "# from sklearn.metrics import precision_score\n",
        "# from sklearn.metrics import recall_score\n",
        "# from sklearn.metrics import f1_score\n",
        "# from sklearn.metrics import accuracy_score\n",
        "\n",
        "\n",
        "op_rnd_clf_pipeline = RandomForestClassifier(random_state=42)\n",
        "\n",
        "op_rnd_clf_param_grid = {\n",
        "    'bootstrap' : [True, False],\n",
        "    'max_depth' : (list(np.linspace(10,100,10)) + [None]),\n",
        "    'criterion' : ['gini', 'entropy'],\n",
        "    # 'min_samples_split' : list(np.linspace(1,8,8, dtype=int)),\n",
        "    'max_features' : ['auto', 'sqrt', 'log2'],\n",
        "    'oob_score' : [True, False],\n",
        "    # 'warm_start': [True, False],\n",
        "    # 'n_estimators' : list(np.linspace(100, 1800, 18, dtype=int))\n",
        "}\n",
        "\n",
        "op_log_clf_scorer = clf_scorer\n",
        "\n",
        "op_rnd_clf_gridCV = GridSearchCV(\n",
        "    estimator = op_rnd_clf_pipeline,\n",
        "    scoring = op_log_clf_scorer,\n",
        "    param_grid = op_rnd_clf_param_grid,\n",
        "    verbose = True,\n",
        "    n_jobs = -1,\n",
        "    return_train_score = True,\n",
        "    refit = refit,\n",
        "    cv = 3\n",
        ")\n",
        "\n",
        "op_rnd_clf = op_rnd_clf_gridCV.fit(X_train, y_train)"
      ],
      "execution_count": 44,
      "outputs": [
        {
          "output_type": "stream",
          "name": "stdout",
          "text": [
            "Fitting 3 folds for each of 264 candidates, totalling 792 fits\n",
            "[Parallel(n_jobs=-1)]: Using backend LokyBackend with 8 concurrent workers.\n",
            "[Parallel(n_jobs=-1)]: Done  34 tasks      | elapsed:    6.3s\n",
            "[Parallel(n_jobs=-1)]: Done 184 tasks      | elapsed:   28.9s\n",
            "[Parallel(n_jobs=-1)]: Done 434 tasks      | elapsed:  1.1min\n",
            "[Parallel(n_jobs=-1)]: Done 792 out of 792 | elapsed:  1.6min finished\n"
          ]
        }
      ]
    },
    {
      "cell_type": "code",
      "metadata": {
        "id": "RGKGqRCVFHqw",
        "outputId": "effec3d9-e820-4f6d-d7b6-b24afd0535e3",
        "colab": {
          "base_uri": "https://localhost:8080/",
          "height": 306
        },
        "tags": []
      },
      "source": [
        "new_rnd_clf = op_rnd_clf.best_estimator_\n",
        "\n",
        "print(\"OLD PARAMETERS: \\n\", baseline_rnd_clf.get_params , \"\\n\")\n",
        "\n",
        "print(\"NEW PARAMETERS: \\n\", new_rnd_clf[0].get_params)"
      ],
      "execution_count": 45,
      "outputs": [
        {
          "output_type": "stream",
          "name": "stdout",
          "text": [
            "OLD PARAMETERS: \n <bound method BaseEstimator.get_params of RandomForestClassifier(random_state=42)> \n\nNEW PARAMETERS: \n <bound method BaseEstimator.get_params of DecisionTreeClassifier(criterion='entropy', max_depth=20.0, max_features='auto',\n                       random_state=1608637542)>\n"
          ]
        }
      ]
    },
    {
      "cell_type": "markdown",
      "metadata": {
        "id": "PNIET628svK_"
      },
      "source": [
        "For the optimal Random Forest model, \"max_depth\" was set to 20, and \"max_features\" was set to \"log2\""
      ]
    },
    {
      "cell_type": "markdown",
      "metadata": {
        "id": "o6Ph4DemKR6D"
      },
      "source": [
        "### Support Vector Machine (SVM)"
      ]
    },
    {
      "cell_type": "code",
      "metadata": {
        "id": "NQp9jbYDKmVN",
        "outputId": "65062fc6-b0fe-4921-8b9a-74abf07a7a74",
        "colab": {
          "base_uri": "https://localhost:8080/",
          "height": 119
        },
        "tags": []
      },
      "source": [
        "op_svm_clf_pipeline = Pipeline(\n",
        "    steps= [\n",
        "        (\"scaler\", StandardScaler()), \n",
        "        ('op_svm', svm_clf) # svm_clf = SVC(random_state=42), from base model\n",
        "    ]\n",
        ")\n",
        "\n",
        "op_svm_clf_param_grid = {\n",
        "    'op_svm__kernel' : ['linear', 'poly', 'rbf', 'sigmoid'],\n",
        "    'op_svm__degree' : [1,2,3,4,5],\n",
        "    'op_svm__gamma' : ['scale', 'auto'],\n",
        "    'op_svm__decision_function_shape' : ['ovo', 'ovr'],\n",
        "    'op_svm__C' : [0.001, 0.01, 0.1, 1, 10]\n",
        "\n",
        "}\n",
        "\n",
        "op_svm_clf_scorer = clf_scorer\n",
        "\n",
        "op_svm_clf_gridCV = GridSearchCV(\n",
        "    estimator = op_svm_clf_pipeline,\n",
        "    scoring = op_svm_clf_scorer,\n",
        "    param_grid = op_svm_clf_param_grid,\n",
        "    verbose = True,\n",
        "    n_jobs = -1,\n",
        "    return_train_score = True,\n",
        "    refit = refit,\n",
        "    cv = 3\n",
        ")\n",
        "\n",
        "op_svm_clf = op_svm_clf_gridCV.fit(X_train, y_train)"
      ],
      "execution_count": 46,
      "outputs": [
        {
          "output_type": "stream",
          "name": "stdout",
          "text": [
            "Fitting 3 folds for each of 400 candidates, totalling 1200 fits\n",
            "[Parallel(n_jobs=-1)]: Using backend LokyBackend with 8 concurrent workers.\n",
            "[Parallel(n_jobs=-1)]: Done  34 tasks      | elapsed:    2.1s\n",
            "[Parallel(n_jobs=-1)]: Done 184 tasks      | elapsed:   10.0s\n",
            "[Parallel(n_jobs=-1)]: Done 434 tasks      | elapsed:   22.4s\n",
            "[Parallel(n_jobs=-1)]: Done 784 tasks      | elapsed:   40.1s\n",
            "[Parallel(n_jobs=-1)]: Done 1200 out of 1200 | elapsed:  1.2min finished\n"
          ]
        }
      ]
    },
    {
      "cell_type": "code",
      "metadata": {
        "id": "oG6SPZO9c9OD",
        "outputId": "083343c6-3003-4fd0-8550-2be08e844a18",
        "colab": {
          "base_uri": "https://localhost:8080/",
          "height": 187
        },
        "tags": []
      },
      "source": [
        "new_svm_clf = op_svm_clf.best_estimator_\n",
        "\n",
        "print(\"OLD PARAMETERS: \\n\", baseline_svm_clf[1].get_params , \"\\n\")\n",
        "\n",
        "print(new_svm_clf[1].get_params)"
      ],
      "execution_count": 47,
      "outputs": [
        {
          "output_type": "stream",
          "name": "stdout",
          "text": [
            "OLD PARAMETERS: \n <bound method BaseEstimator.get_params of SVC(probability=True, random_state=42)> \n\n<bound method BaseEstimator.get_params of SVC(C=10, decision_function_shape='ovo', degree=1, kernel='poly',\n    probability=True, random_state=42)>\n"
          ]
        }
      ]
    },
    {
      "cell_type": "markdown",
      "metadata": {
        "id": "3cBGCPlIsyS1"
      },
      "source": [
        "For the optimal SVM model, \"decision_function_shape\" was set to \"ovo\" (one vs one), \"degree\" set to 1, and kernel set to \"linear\".\n"
      ]
    },
    {
      "cell_type": "markdown",
      "metadata": {
        "id": "tQO4ybkRs-PZ"
      },
      "source": [
        "### Results"
      ]
    },
    {
      "cell_type": "code",
      "metadata": {
        "id": "58gOwvAzsyg6",
        "outputId": "fd4eb5af-23d8-4eaa-f5c9-2b916faab0b1",
        "colab": {
          "base_uri": "https://localhost:8080/",
          "height": 235
        }
      },
      "source": [
        "op_baseline_metric_data = {\n",
        "\t  \t\t\t\t\t\"Model\": [],\n",
        "                        \"Precision\": [],\n",
        "\t\t\t\t\t\t\"Recall\": [],\n",
        "\t\t\t\t\t\t\"F1 Score\": [],\n",
        "\t\t\t\t\t\t\"Accuracy\": [],\n",
        "\t\t\t\t\t\t        \t\t}\n",
        "for clf in (baseline_log_clf, new_log_clf, baseline_rnd_clf, new_rnd_clf, baseline_svm_clf, new_svm_clf):\n",
        "\tclf.fit(X_train, y_train)\n",
        "\ty_pred = clf.predict(X_test)\n",
        "\ttry: \n",
        "\t\tif (clf[1] and clf.__class__.__name__ == \"Pipeline\"):\n",
        "\t\t\top_baseline_metric_data[\"Model\"].append(clf[1].__class__.__name__)\n",
        "\t\t\top_baseline_metric_data[\"Precision\"].append(precision_score(y_test, y_pred))\n",
        "\t\t\top_baseline_metric_data[\"Recall\"].append(recall_score(y_test, y_pred))\n",
        "\t\t\top_baseline_metric_data[\"F1 Score\"].append(f1_score(y_test, y_pred))\n",
        "\t\t\top_baseline_metric_data[\"Accuracy\"].append(accuracy_score(y_test, y_pred))\n",
        "\t\telse: \n",
        "\t\t\top_baseline_metric_data[\"Model\"].append(clf[0][1])\n",
        "\t\t\top_baseline_metric_data[\"Precision\"].append(precision_score(y_test, y_pred))\n",
        "\t\t\top_baseline_metric_data[\"Recall\"].append(recall_score(y_test, y_pred))\n",
        "\t\t\top_baseline_metric_data[\"F1 Score\"].append(f1_score(y_test, y_pred))\n",
        "\t\t\top_baseline_metric_data[\"Accuracy\"].append(accuracy_score(y_test, y_pred))\n",
        "\texcept:\n",
        "\t\t\top_baseline_metric_data[\"Model\"].append(clf.__class__.__name__)\n",
        "\t\t\top_baseline_metric_data[\"Precision\"].append(precision_score(y_test, y_pred))\n",
        "\t\t\top_baseline_metric_data[\"Recall\"].append(recall_score(y_test, y_pred))\n",
        "\t\t\top_baseline_metric_data[\"F1 Score\"].append(f1_score(y_test, y_pred))\n",
        "\t\t\top_baseline_metric_data[\"Accuracy\"].append(accuracy_score(y_test, y_pred))\n",
        "\n",
        "op_baseline_metric_table = pd.DataFrame(data=op_baseline_metric_data)\n",
        "op_baseline_metric_table"
      ],
      "execution_count": 48,
      "outputs": [
        {
          "output_type": "execute_result",
          "data": {
            "text/plain": [
              "                    Model  Precision    Recall  F1 Score  Accuracy\n",
              "0      LogisticRegression   0.828125  0.905983  0.865306  0.850679\n",
              "1      LogisticRegression   0.826772  0.897436  0.860656  0.846154\n",
              "2  RandomForestClassifier   0.750000  0.846154  0.795181  0.769231\n",
              "3  RandomForestClassifier   0.748092  0.837607  0.790323  0.764706\n",
              "4                     SVC   0.830645  0.880342  0.854772  0.841629\n",
              "5                     SVC   0.846774  0.897436  0.871369  0.859729"
            ],
            "text/html": "<div>\n<style scoped>\n    .dataframe tbody tr th:only-of-type {\n        vertical-align: middle;\n    }\n\n    .dataframe tbody tr th {\n        vertical-align: top;\n    }\n\n    .dataframe thead th {\n        text-align: right;\n    }\n</style>\n<table border=\"1\" class=\"dataframe\">\n  <thead>\n    <tr style=\"text-align: right;\">\n      <th></th>\n      <th>Model</th>\n      <th>Precision</th>\n      <th>Recall</th>\n      <th>F1 Score</th>\n      <th>Accuracy</th>\n    </tr>\n  </thead>\n  <tbody>\n    <tr>\n      <th>0</th>\n      <td>LogisticRegression</td>\n      <td>0.828125</td>\n      <td>0.905983</td>\n      <td>0.865306</td>\n      <td>0.850679</td>\n    </tr>\n    <tr>\n      <th>1</th>\n      <td>LogisticRegression</td>\n      <td>0.826772</td>\n      <td>0.897436</td>\n      <td>0.860656</td>\n      <td>0.846154</td>\n    </tr>\n    <tr>\n      <th>2</th>\n      <td>RandomForestClassifier</td>\n      <td>0.750000</td>\n      <td>0.846154</td>\n      <td>0.795181</td>\n      <td>0.769231</td>\n    </tr>\n    <tr>\n      <th>3</th>\n      <td>RandomForestClassifier</td>\n      <td>0.748092</td>\n      <td>0.837607</td>\n      <td>0.790323</td>\n      <td>0.764706</td>\n    </tr>\n    <tr>\n      <th>4</th>\n      <td>SVC</td>\n      <td>0.830645</td>\n      <td>0.880342</td>\n      <td>0.854772</td>\n      <td>0.841629</td>\n    </tr>\n    <tr>\n      <th>5</th>\n      <td>SVC</td>\n      <td>0.846774</td>\n      <td>0.897436</td>\n      <td>0.871369</td>\n      <td>0.859729</td>\n    </tr>\n  </tbody>\n</table>\n</div>"
          },
          "metadata": {},
          "execution_count": 48
        }
      ]
    },
    {
      "cell_type": "markdown",
      "metadata": {
        "id": "IaYabuSRs5xV"
      },
      "source": [
        "The Random Forests, and SVM model were able to improve significantly, with a 1-2% increase. The logistic model did not improve as much, with differences of <1%. The hyperparameter changes can be found under the cell of each model. "
      ]
    },
    {
      "cell_type": "markdown",
      "metadata": {
        "id": "7cW3Pp75pxp7"
      },
      "source": [
        "### Sample Prediction"
      ]
    },
    {
      "cell_type": "code",
      "execution_count": 49,
      "metadata": {},
      "outputs": [],
      "source": [
        "import joblib\n",
        "\n",
        "\n",
        "for idx, clf in enumerate([new_log_clf, baseline_rnd_clf, baseline_svm_clf]):\n",
        "    fitted = clf.fit(X_train, y_train)\n",
        "    filename=\"{}.pkl\".format(idx)\n",
        "    joblib.dump(fitted, filename=filename)"
      ]
    },
    {
      "cell_type": "code",
      "metadata": {
        "id": "SVlZSGdZtZj5",
        "outputId": "eec8ef12-1fb8-4611-cca0-bc68a9e418b3",
        "colab": {
          "base_uri": "https://localhost:8080/",
          "height": 646
        }
      },
      "source": [
        "x = 0\n",
        "random_team = main_df.iloc[x].drop([\"Year\",\"Team\", \"G\",\"Rk\", \"Playoff\"])\n",
        "main_df.iloc[x]"
      ],
      "execution_count": 50,
      "outputs": [
        {
          "output_type": "execute_result",
          "data": {
            "text/plain": [
              "Rk                         1\n",
              "Team       San Antonio Spurs\n",
              "G                         82\n",
              "MP                     240.9\n",
              "FG                        47\n",
              "FGA                     94.4\n",
              "FG%                    0.498\n",
              "3P                       0.6\n",
              "3PA                      2.5\n",
              "3P%                    0.252\n",
              "2P                      46.4\n",
              "2PA                     91.9\n",
              "2P%                    0.505\n",
              "FT                      24.7\n",
              "FTA                     30.8\n",
              "FT%                    0.801\n",
              "ORB                     14.1\n",
              "DRB                     30.7\n",
              "TRB                     44.7\n",
              "AST                     28.4\n",
              "STL                      9.4\n",
              "BLK                      4.1\n",
              "TOV                     19.4\n",
              "PF                      25.6\n",
              "PTS                    119.4\n",
              "Year                    1980\n",
              "Playoff                    1\n",
              "PPM                 0.495641\n",
              "POSS                 108.722\n",
              "DRBP                0.711776\n",
              "DE                   93.7493\n",
              "OE                   109.821\n",
              "ED                   16.0722\n",
              "TR                   1.29558\n",
              "EFG%                 47.0032\n",
              "FTR                 0.326271\n",
              "Name: 0, dtype: object"
            ]
          },
          "metadata": {},
          "execution_count": 50
        }
      ]
    },
    {
      "cell_type": "code",
      "metadata": {
        "id": "T3AAYvhcxR3a",
        "outputId": "a8fb9086-3abf-46d8-bc90-82b8dd90f475",
        "colab": {
          "base_uri": "https://localhost:8080/",
          "height": 100
        }
      },
      "source": [
        "year1 = 1980\n",
        "name1 = \"Los Angeles Lakers\"\n",
        "team1 = main_df[(main_df[\"Year\"] == year1) & (main_df[\"Team\"] == name1)]\n",
        "team1 = team1.drop([\"Year\",\"Team\", \"G\",\"Rk\", \"Playoff\"], axis=1)\n",
        "team1"
      ],
      "execution_count": 51,
      "outputs": [
        {
          "output_type": "execute_result",
          "data": {
            "text/plain": [
              "      MP    FG   FGA    FG%   3P  3PA  3P%    2P   2PA    2P%  ...    PTS  \\\n",
              "1  242.4  47.5  89.9  0.529  0.2  1.2  0.2  47.3  88.6  0.534  ...  115.1   \n",
              "\n",
              "        PPM      POSS      DRBP         DE          OE         ED        TR  \\\n",
              "1  0.474835  103.6032  0.722706  98.381128  111.096955  12.715827  1.585666   \n",
              "\n",
              "        EFG%       FTR  \n",
              "1  47.501112  0.283648  \n",
              "\n",
              "[1 rows x 31 columns]"
            ],
            "text/html": "<div>\n<style scoped>\n    .dataframe tbody tr th:only-of-type {\n        vertical-align: middle;\n    }\n\n    .dataframe tbody tr th {\n        vertical-align: top;\n    }\n\n    .dataframe thead th {\n        text-align: right;\n    }\n</style>\n<table border=\"1\" class=\"dataframe\">\n  <thead>\n    <tr style=\"text-align: right;\">\n      <th></th>\n      <th>MP</th>\n      <th>FG</th>\n      <th>FGA</th>\n      <th>FG%</th>\n      <th>3P</th>\n      <th>3PA</th>\n      <th>3P%</th>\n      <th>2P</th>\n      <th>2PA</th>\n      <th>2P%</th>\n      <th>...</th>\n      <th>PTS</th>\n      <th>PPM</th>\n      <th>POSS</th>\n      <th>DRBP</th>\n      <th>DE</th>\n      <th>OE</th>\n      <th>ED</th>\n      <th>TR</th>\n      <th>EFG%</th>\n      <th>FTR</th>\n    </tr>\n  </thead>\n  <tbody>\n    <tr>\n      <th>1</th>\n      <td>242.4</td>\n      <td>47.5</td>\n      <td>89.9</td>\n      <td>0.529</td>\n      <td>0.2</td>\n      <td>1.2</td>\n      <td>0.2</td>\n      <td>47.3</td>\n      <td>88.6</td>\n      <td>0.534</td>\n      <td>...</td>\n      <td>115.1</td>\n      <td>0.474835</td>\n      <td>103.6032</td>\n      <td>0.722706</td>\n      <td>98.381128</td>\n      <td>111.096955</td>\n      <td>12.715827</td>\n      <td>1.585666</td>\n      <td>47.501112</td>\n      <td>0.283648</td>\n    </tr>\n  </tbody>\n</table>\n<p>1 rows × 31 columns</p>\n</div>"
          },
          "metadata": {},
          "execution_count": 51
        }
      ]
    },
    {
      "cell_type": "code",
      "metadata": {
        "id": "-izkP1DzZ-TF",
        "outputId": "bf89cdac-4416-4877-fdcb-2a5ec918b3ab",
        "colab": {
          "base_uri": "https://localhost:8080/",
          "height": 68
        },
        "tags": []
      },
      "source": [
        "random_team_vals = np.array(team1.values.tolist()).reshape(-1,31)\n",
        "prob = new_svm_clf.predict_proba(random_team_vals) * 100\n",
        "print(new_svm_clf.classes_,\"\\n\",prob)\n",
        "print(prob.sum())"
      ],
      "execution_count": 52,
      "outputs": [
        {
          "output_type": "stream",
          "name": "stdout",
          "text": [
            "[0 1] \n [[ 0.38732404 99.61267596]]\n99.99999999999999\n"
          ]
        }
      ]
    },
    {
      "cell_type": "markdown",
      "metadata": {
        "id": "OwNEUlmJp1gx"
      },
      "source": [
        "the 1980-81 San Antonio Spurs had a 64.0% chance of making the playoffs"
      ]
    },
    {
      "cell_type": "markdown",
      "metadata": {
        "id": "RB5aPfczlTXq"
      },
      "source": [
        "# Conclusion"
      ]
    },
    {
      "cell_type": "markdown",
      "metadata": {
        "id": "zLNucGkFlVmA"
      },
      "source": [
        "Basketball is a forever changing game, with changes to rules, meta positions (what positions are most dominant), and different coaching strategies, but there will be certain fundamentals that great teams focus on.\n",
        "\n",
        "Some teams are able to focus and develop the fundamentals that make a great team, and by doing so are able to make the playoffs. On the other hand, non playoff teams might not have the talent, or cap space to acquire and develop their players. \n",
        "\n",
        "Overall if teams focus their resources, whether it be coaching staff, or players, to develop skills to **increase their steals, rebounds, offensive efficiency, and defensive efficiency,** it would make the team more competitive for a playoff spot."
      ]
    }
  ]
}